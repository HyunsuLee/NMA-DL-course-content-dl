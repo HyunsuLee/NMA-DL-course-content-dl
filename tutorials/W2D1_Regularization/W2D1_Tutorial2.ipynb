{
 "cells": [
  {
   "cell_type": "markdown",
   "metadata": {
    "colab_type": "text",
    "execution": {},
    "id": "view-in-github"
   },
   "source": [
    "<a href=\"https://colab.research.google.com/github/NeuromatchAcademy/course-content-dl/blob/main/tutorials/W2D1_Regularization/W2D1_Tutorial2.ipynb\" target=\"_parent\"><img src=\"https://colab.research.google.com/assets/colab-badge.svg\" alt=\"Open In Colab\"/></a> &nbsp; <a href=\"https://kaggle.com/kernels/welcome?src=https://raw.githubusercontent.com/NeuromatchAcademy/course-content-dl/main/tutorials/W2D1_Regularization/W2D1_Tutorial2.ipynb\" target=\"_parent\"><img src=\"https://kaggle.com/static/images/open-in-kaggle.svg\" alt=\"Open in Kaggle\"/></a>"
   ]
  },
  {
   "cell_type": "markdown",
   "metadata": {
    "execution": {}
   },
   "source": [
    "# Tutorial 2: Regularization techniques part 2\n",
    "\n",
    "**Week 2, Day 1: Regularization**\n",
    "\n",
    "**By Neuromatch Academy**\n",
    "\n",
    "\n",
    "__Content creators:__ Ravi Teja Konkimalla, Mohitrajhu Lingan Kumaraian, Kevin Machado Gamboa, Kelson Shilling-Scrivo, Lyle Ungar\n",
    "\n",
    "__Content reviewers:__ Piyush Chauhan, Siwei Bai, Kelson Shilling-Scrivo\n",
    "\n",
    "__Content editors:__ Roberto Guidotti, Spiros Chavlis\n",
    "\n",
    "__Production editors:__ Saeed Salehi, Gagana B, Spiros Chavlis"
   ]
  },
  {
   "cell_type": "markdown",
   "metadata": {
    "execution": {}
   },
   "source": [
    "<p align='center'><img src='https://github.com/NeuromatchAcademy/widgets/blob/master/sponsors.png?raw=True'/></p>"
   ]
  },
  {
   "cell_type": "markdown",
   "metadata": {
    "execution": {}
   },
   "source": [
    "---\n",
    "# Tutorial Objectives\n",
    "\n",
    "1. Regularization as shrinkage of overparameterized models: L1 and L2\n",
    "2. Regularization by Dropout\n",
    "3. Regularization by Data Augmentation\n",
    "4. Perils of Hyper-Parameter Tuning\n",
    "5. Rethinking generalization"
   ]
  },
  {
   "cell_type": "code",
   "execution_count": 10,
   "metadata": {
    "cellView": "form",
    "execution": {}
   },
   "outputs": [
    {
     "data": {
      "text/html": [
       "\n",
       "        <iframe\n",
       "            width=\"854\"\n",
       "            height=\"480\"\n",
       "            src=\"https://mfr.ca-1.osf.io/render?url=https://osf.io/7um6p/?direct%26mode=render%26action=download%26mode=render\"\n",
       "            frameborder=\"0\"\n",
       "            allowfullscreen\n",
       "            \n",
       "        ></iframe>\n",
       "        "
      ],
      "text/plain": [
       "<IPython.lib.display.IFrame at 0x7f985e776cd0>"
      ]
     },
     "execution_count": 10,
     "metadata": {},
     "output_type": "execute_result"
    }
   ],
   "source": [
    "# @title Tutorial slides\n",
    "\n",
    "from IPython.display import IFrame\n",
    "IFrame(src=f\"https://mfr.ca-1.osf.io/render?url=https://osf.io/7um6p/?direct%26mode=render%26action=download%26mode=render\", width=854, height=480)"
   ]
  },
  {
   "cell_type": "markdown",
   "metadata": {
    "execution": {}
   },
   "source": [
    "These are the slides for all videos in this tutorial. If you want to locally download the slides, click [here](https://osf.io/7um6p/download)."
   ]
  },
  {
   "cell_type": "markdown",
   "metadata": {
    "execution": {}
   },
   "source": [
    "---\n",
    "# Setup\n",
    "Note that some of the code for today can take up to an hour to run. We have therefore \"hidden\" that code and shown the resulting outputs."
   ]
  },
  {
   "cell_type": "code",
   "execution_count": 11,
   "metadata": {
    "cellView": "form",
    "execution": {}
   },
   "outputs": [],
   "source": [
    "# @title Install dependencies\n",
    "\n",
    "# @markdown **WARNING**: There may be *errors* and/or *warnings* reported during the installation. However, they should be ignored.\n",
    "\n",
    "!pip install imageio --quiet\n",
    "!pip install imageio-ffmpeg --quiet\n",
    "!pip install git+https://github.com/NeuromatchAcademy/evaltools --quiet\n",
    "\n",
    "from evaltools.airtable import AirtableForm\n",
    "atform = AirtableForm('appn7VdPRseSoMXEG', 'W2D1_T2', 'https://portal.neuromatchacademy.org/api/redirect/to/db28603f-d241-43d1-a31e-65ddf830a21a')"
   ]
  },
  {
   "cell_type": "code",
   "execution_count": 12,
   "metadata": {
    "execution": {}
   },
   "outputs": [],
   "source": [
    "# Imports\n",
    "import copy\n",
    "import torch\n",
    "import random\n",
    "import pathlib\n",
    "\n",
    "import numpy as np\n",
    "import matplotlib.pyplot as plt\n",
    "import matplotlib.animation as animation\n",
    "\n",
    "import torch.nn as nn\n",
    "import torch.optim as optim\n",
    "import torch.nn.functional as F\n",
    "\n",
    "from torchvision import transforms\n",
    "from torchvision.datasets import ImageFolder\n",
    "\n",
    "from tqdm.auto import tqdm\n",
    "from IPython.display import HTML, display"
   ]
  },
  {
   "cell_type": "code",
   "execution_count": 13,
   "metadata": {
    "cellView": "form",
    "execution": {}
   },
   "outputs": [],
   "source": [
    "# @title Figure Settings\n",
    "import ipywidgets as widgets\n",
    "%matplotlib inline\n",
    "%config InlineBackend.figure_format = 'retina'\n",
    "plt.style.use(\"https://raw.githubusercontent.com/NeuromatchAcademy/content-creation/main/nma.mplstyle\")"
   ]
  },
  {
   "cell_type": "code",
   "execution_count": 14,
   "metadata": {
    "cellView": "form",
    "execution": {}
   },
   "outputs": [
    {
     "name": "stdout",
     "output_type": "stream",
     "text": [
      "Start downloading and unzipping `AnimalFaces` dataset...\n",
      "Download completed.\n"
     ]
    }
   ],
   "source": [
    "# @title Loading Animal Faces Data\n",
    "import requests, os\n",
    "from zipfile import ZipFile\n",
    "\n",
    "print(\"Start downloading and unzipping `AnimalFaces` dataset...\")\n",
    "name = 'afhq'\n",
    "data_dir_path = \"/media/hyunsu/data2/01.DataAnalysis/data_ML/\" \n",
    "fname = data_dir_path + f\"{name}.zip\"\n",
    "url = f\"https://osf.io/kgfvj/download\"\n",
    "\n",
    "if not os.path.exists(fname):\n",
    "  r = requests.get(url, allow_redirects=True)\n",
    "  with open(fname, 'wb') as fh:\n",
    "    fh.write(r.content)\n",
    "\n",
    "  if os.path.exists(fname):\n",
    "    with ZipFile(fname, 'r') as zfile:\n",
    "      zfile.extractall(data_dir_path)\n",
    "      os.remove(fname)\n",
    "\n",
    "print(\"Download completed.\")"
   ]
  },
  {
   "cell_type": "code",
   "execution_count": 15,
   "metadata": {
    "cellView": "form",
    "execution": {}
   },
   "outputs": [
    {
     "name": "stdout",
     "output_type": "stream",
     "text": [
      "Start downloading and unzipping `Randomized AnimalFaces` dataset...\n",
      "Download completed.\n"
     ]
    }
   ],
   "source": [
    "# @title Loading Animal Faces Randomized data\n",
    "\n",
    "print(\"Start downloading and unzipping `Randomized AnimalFaces` dataset...\")\n",
    "\n",
    "names = ['afhq_random_32x32', 'afhq_10_32x32']\n",
    "urls = [\"https://osf.io/9sj7p/download\",\n",
    "        \"https://osf.io/wvgkq/download\"]\n",
    "\n",
    "\n",
    "for i, name in enumerate(names):\n",
    "  url = urls[i]\n",
    "  fname = data_dir_path + f\"{name}.zip\"\n",
    "\n",
    "  if not os.path.exists(fname):\n",
    "    r = requests.get(url, allow_redirects=True)\n",
    "    with open(fname, 'wb') as fh:\n",
    "      fh.write(r.content)\n",
    "\n",
    "    if os.path.exists(fname):\n",
    "      with ZipFile(fname, 'r') as zfile:\n",
    "        zfile.extractall(data_dir_path)\n",
    "        os.remove(fname)\n",
    "\n",
    "print(\"Download completed.\")"
   ]
  },
  {
   "cell_type": "code",
   "execution_count": 16,
   "metadata": {
    "cellView": "form",
    "execution": {}
   },
   "outputs": [],
   "source": [
    "# @title Plotting functions\n",
    "\n",
    "def imshow(img):\n",
    "  \"\"\"\n",
    "  Display unnormalized image\n",
    "\n",
    "  Args:\n",
    "    img: np.ndarray\n",
    "      Datapoint to visualize\n",
    "\n",
    "  Returns:\n",
    "    Nothing\n",
    "  \"\"\"\n",
    "  img = img / 2 + 0.5  # Unnormalize\n",
    "  npimg = img.numpy()\n",
    "  plt.imshow(np.transpose(npimg, (1, 2, 0)))\n",
    "  plt.axis(False)\n",
    "  plt.show()\n",
    "\n",
    "\n",
    "def plot_weights(norm, labels, ws, title='Weight Size Measurement'):\n",
    "  \"\"\"\n",
    "  Plot of weight size measurement [norm value vs layer]\n",
    "\n",
    "  Args:\n",
    "    norm: float\n",
    "      Norm values\n",
    "    labels: list\n",
    "      Targets\n",
    "    ws: list\n",
    "      Weights\n",
    "    title: string\n",
    "      Title of plot\n",
    "\n",
    "  Returns:\n",
    "    Nothing\n",
    "  \"\"\"\n",
    "  plt.figure(figsize=[8, 6])\n",
    "  plt.title(title)\n",
    "  plt.ylabel('Frobenius Norm Value')\n",
    "  plt.xlabel('Model Layers')\n",
    "  plt.bar(labels, ws)\n",
    "  plt.axhline(y=norm,\n",
    "              linewidth=1,\n",
    "              color='r',\n",
    "              ls='--',\n",
    "              label='Total Model F-Norm')\n",
    "  plt.legend()\n",
    "  plt.show()\n",
    "\n",
    "\n",
    "def visualize_data(dataloader):\n",
    "  \"\"\"\n",
    "  Helper function to visualize data\n",
    "\n",
    "  Args:\n",
    "    dataloader: torch.tensor\n",
    "      Dataloader to visualize\n",
    "\n",
    "  Returns:\n",
    "    Nothing\n",
    "  \"\"\"\n",
    "  for idx, (data,label) in enumerate(dataloader):\n",
    "    plt.figure(idx)\n",
    "    # Choose the datapoint you would like to visualize\n",
    "    index = 22\n",
    "\n",
    "    # Choose that datapoint using index and permute the dimensions\n",
    "    # and bring the pixel values between [0,1]\n",
    "    data = data[index].permute(1, 2, 0) * \\\n",
    "           torch.tensor([0.5, 0.5, 0.5]) + \\\n",
    "           torch.tensor([0.5, 0.5, 0.5])\n",
    "\n",
    "    # Convert the torch tensor into numpy\n",
    "    data = data.numpy()\n",
    "\n",
    "    plt.imshow(data)\n",
    "    plt.axis(False)\n",
    "    image_class = classes[label[index].item()]\n",
    "    print(f'The image belongs to : {image_class}')\n",
    "\n",
    "  plt.show()"
   ]
  },
  {
   "cell_type": "code",
   "execution_count": 17,
   "metadata": {
    "cellView": "form",
    "execution": {}
   },
   "outputs": [],
   "source": [
    "# @title Helper functions\n",
    "\n",
    "class AnimalNet(nn.Module):\n",
    "  \"\"\"\n",
    "  Network Class - Animal Faces with following structure:\n",
    "  nn.Linear(3 * 32 * 32, 128) # Fully connected layer 1\n",
    "  nn.Linear(128, 32) # Fully connected layer 2\n",
    "  nn.Linear(32, 3) # Fully connected layer 3\n",
    "  \"\"\"\n",
    "\n",
    "  def __init__(self):\n",
    "    \"\"\"\n",
    "    Initialize parameters of AnimalNet\n",
    "\n",
    "    Args:\n",
    "      None\n",
    "\n",
    "    Returns:\n",
    "      Nothing\n",
    "    \"\"\"\n",
    "    super(AnimalNet, self).__init__()\n",
    "    self.fc1 = nn.Linear(3 * 32 * 32, 128)\n",
    "    self.fc2 = nn.Linear(128, 32)\n",
    "    self.fc3 = nn.Linear(32, 3)\n",
    "\n",
    "  def forward(self, x):\n",
    "    \"\"\"\n",
    "    Forward Pass of AnimalNet\n",
    "\n",
    "    Args:\n",
    "      x: torch.tensor\n",
    "        Input features\n",
    "\n",
    "    Returns:\n",
    "      output: torch.tensor\n",
    "        Outputs/Predictions\n",
    "    \"\"\"\n",
    "    x = x.view(x.shape[0], -1)\n",
    "    x = F.relu(self.fc1(x))\n",
    "    x = F.relu(self.fc2(x))\n",
    "    x = self.fc3(x)\n",
    "    output = F.log_softmax(x, dim=1)\n",
    "    return output\n",
    "\n",
    "\n",
    "class Net(nn.Module):\n",
    "  \"\"\"\n",
    "  Network Class - 2D with following structure\n",
    "  nn.Linear(1, 300) + leaky_relu(self.fc1(x)) # First fully connected layer\n",
    "  nn.Linear(300, 500) + leaky_relu(self.fc2(x)) # Second fully connected layer\n",
    "  nn.Linear(500, 1) # Final fully connected layer\n",
    "  \"\"\"\n",
    "\n",
    "  def __init__(self):\n",
    "    \"\"\"\n",
    "    Initialize parameters of Net\n",
    "\n",
    "    Args:\n",
    "      None\n",
    "\n",
    "    Returns:\n",
    "      Nothing\n",
    "    \"\"\"\n",
    "    super(Net, self).__init__()\n",
    "\n",
    "    self.fc1 = nn.Linear(1, 300)\n",
    "    self.fc2 = nn.Linear(300, 500)\n",
    "    self.fc3 = nn.Linear(500, 1)\n",
    "\n",
    "  def forward(self, x):\n",
    "    \"\"\"\n",
    "    Forward pass of Net\n",
    "\n",
    "    Args:\n",
    "      x: torch.tensor\n",
    "        Input features\n",
    "\n",
    "    Returns:\n",
    "      x: torch.tensor\n",
    "        Output/Predictions\n",
    "    \"\"\"\n",
    "    x = F.leaky_relu(self.fc1(x))\n",
    "    x = F.leaky_relu(self.fc2(x))\n",
    "    output = self.fc3(x)\n",
    "    return output\n",
    "\n",
    "\n",
    "class BigAnimalNet(nn.Module):\n",
    "  \"\"\"\n",
    "  Network Class - Animal Faces with following structure:\n",
    "  nn.Linear(3*32*32, 124) + leaky_relu(self.fc1(x)) # First fully connected layer\n",
    "  nn.Linear(124, 64) + leaky_relu(self.fc2(x)) # Second fully connected layer\n",
    "  nn.Linear(64, 3) # Final fully connected layer\n",
    "  \"\"\"\n",
    "\n",
    "  def __init__(self):\n",
    "    \"\"\"\n",
    "    Initialize parameters for BigAnimalNet\n",
    "\n",
    "    Args:\n",
    "      None\n",
    "\n",
    "    Returns:\n",
    "      Nothing\n",
    "    \"\"\"\n",
    "    super(BigAnimalNet, self).__init__()\n",
    "    self.fc1 = nn.Linear(3*32*32, 124)\n",
    "    self.fc2 = nn.Linear(124, 64)\n",
    "    self.fc3 = nn.Linear(64, 3)\n",
    "\n",
    "  def forward(self, x):\n",
    "    \"\"\"\n",
    "    Forward pass of BigAnimalNet\n",
    "\n",
    "    Args:\n",
    "      x: torch.tensor\n",
    "        Input features\n",
    "\n",
    "    Returns:\n",
    "      x: torch.tensor\n",
    "        Output/Predictions\n",
    "    \"\"\"\n",
    "    x = x.view(x.shape[0],-1)\n",
    "    x = F.leaky_relu(self.fc1(x))\n",
    "    x = F.leaky_relu(self.fc2(x))\n",
    "    x = self.fc3(x)\n",
    "    output = F.log_softmax(x, dim=1)\n",
    "    return output\n",
    "\n",
    "\n",
    "def train(args, model, train_loader, optimizer, epoch,\n",
    "          reg_function1=None, reg_function2=None, criterion=F.nll_loss):\n",
    "  \"\"\"\n",
    "  Trains the current input model using the data\n",
    "  from Train_loader and Updates parameters for a single pass\n",
    "\n",
    "  Args:\n",
    "    args: dictionary\n",
    "      Dictionary with epochs: 200, lr: 5e-3, momentum: 0.9, device: DEVICE\n",
    "    model: nn.module\n",
    "      Neural network instance\n",
    "    train_loader: torch.loader\n",
    "      Input dataset\n",
    "    optimizer: function\n",
    "      Optimizer\n",
    "    reg_function1: function\n",
    "      Regularisation function [default: None]\n",
    "    reg_function2: function\n",
    "      Regularisation function [default: None]\n",
    "    criterion: function\n",
    "      Specifies loss function [default: nll_loss]\n",
    "\n",
    "  Returns:\n",
    "    model: nn.module\n",
    "      Neural network instance post training\n",
    "  \"\"\"\n",
    "  device = args['device']\n",
    "  model.train()\n",
    "  for batch_idx, (data, target) in enumerate(train_loader):\n",
    "    data, target = data.to(device), target.to(device)\n",
    "    optimizer.zero_grad()\n",
    "    output = model(data)\n",
    "    # L1 regularization\n",
    "    if reg_function2 is None and reg_function1 is not None:\n",
    "      loss = criterion(output, target) + args['lambda1']*reg_function1(model)\n",
    "    # L2 regularization\n",
    "    elif reg_function1 is None and reg_function2 is not None:\n",
    "      loss = criterion(output, target) + args['lambda2']*reg_function2(model)\n",
    "    # No regularization\n",
    "    elif reg_function1 is None and reg_function2 is None:\n",
    "      loss = criterion(output, target)\n",
    "    # Both L1 and L2 regularizations\n",
    "    else:\n",
    "      loss = criterion(output, target) + args['lambda1']*reg_function1(model) + args['lambda2']*reg_function2(model)\n",
    "    loss.backward()\n",
    "    optimizer.step()\n",
    "\n",
    "  return model\n",
    "\n",
    "\n",
    "def test(model, test_loader, loader='Test', criterion=F.nll_loss,\n",
    "         device='cpu'):\n",
    "  \"\"\"\n",
    "  Tests the current model\n",
    "\n",
    "  Args:\n",
    "    model: nn.module\n",
    "      Neural network instance\n",
    "    device: string\n",
    "      GPU/CUDA if available, CPU otherwise\n",
    "    test_loader: torch.loader\n",
    "      Test dataset\n",
    "    criterion: function\n",
    "      Specifies loss function [default: nll_loss]\n",
    "\n",
    "  Returns:\n",
    "    test_loss: float\n",
    "      Test loss\n",
    "  \"\"\"\n",
    "  model.eval()\n",
    "  test_loss = 0\n",
    "  correct = 0\n",
    "  with torch.no_grad():\n",
    "    for data, target in test_loader:\n",
    "      data, target = data.to(device), target.to(device)\n",
    "      output = model(data)\n",
    "      test_loss += criterion(output, target, reduction='sum').item()  # sum up batch loss\n",
    "      pred = output.argmax(dim=1, keepdim=True)  # Get the index of the max log-probability\n",
    "      correct += pred.eq(target.view_as(pred)).sum().item()\n",
    "\n",
    "  test_loss /= len(test_loader.dataset)\n",
    "  return 100. * correct / len(test_loader.dataset)\n",
    "\n",
    "\n",
    "def main(args, model, train_loader, val_loader, test_data,\n",
    "         reg_function1=None, reg_function2=None, criterion=F.nll_loss):\n",
    "  \"\"\"\n",
    "  Trains the model with train_loader and\n",
    "  tests the learned model using val_loader\n",
    "\n",
    "  Args:\n",
    "    args: dictionary\n",
    "      Dictionary with epochs: 200, lr: 5e-3, momentum: 0.9, device: DEVICE\n",
    "    model: nn.module\n",
    "      Neural network instance\n",
    "    train_loader: torch.loader\n",
    "      Train dataset\n",
    "    val_loader: torch.loader\n",
    "      Validation set\n",
    "    reg_function1: function\n",
    "      Regularisation function [default: None]\n",
    "    reg_function2: function\n",
    "      Regularisation function [default: None]\n",
    "\n",
    "  Returns:\n",
    "    val_acc_list: list\n",
    "      Log of validation accuracy\n",
    "    train_acc_list: list\n",
    "      Log of training accuracy\n",
    "    param_norm_list: list\n",
    "      Log of frobenius norm\n",
    "    trained_model: nn.module\n",
    "      Trained model/model post training\n",
    "  \"\"\"\n",
    "  device = args['device']\n",
    "\n",
    "  model = model.to(device)\n",
    "  optimizer = optim.SGD(model.parameters(), lr=args['lr'], momentum=args['momentum'])\n",
    "\n",
    "  val_acc_list, train_acc_list,param_norm_list = [], [], []\n",
    "  for epoch in tqdm(range(args['epochs'])):\n",
    "    trained_model = train(args, model, train_loader, optimizer, epoch,\n",
    "                          reg_function1=reg_function1,\n",
    "                          reg_function2=reg_function2)\n",
    "    train_acc = test(trained_model, train_loader, loader='Train', device=device)\n",
    "    val_acc = test(trained_model, val_loader, loader='Val', device=device)\n",
    "    param_norm = calculate_frobenius_norm(trained_model)\n",
    "    train_acc_list.append(train_acc)\n",
    "    val_acc_list.append(val_acc)\n",
    "    param_norm_list.append(param_norm)\n",
    "\n",
    "  return val_acc_list, train_acc_list, param_norm_list, model\n",
    "\n",
    "\n",
    "def calculate_frobenius_norm(model):\n",
    "    \"\"\"\n",
    "    Function to calculate frobenius norm\n",
    "\n",
    "    Args:\n",
    "      model: nn.module\n",
    "        Neural network instance\n",
    "\n",
    "    Returns:\n",
    "      norm: float\n",
    "        Frobenius norm\n",
    "    \"\"\"\n",
    "    norm = 0.0\n",
    "    # Sum the square of all parameters\n",
    "    for name,param in model.named_parameters():\n",
    "        norm += torch.norm(param).data**2\n",
    "    # Return a square root of the sum of squares of all the parameters\n",
    "    return norm**0.5\n",
    "\n",
    "\n",
    "def early_stopping_main(args, model, train_loader, val_loader, test_data):\n",
    "  \"\"\"\n",
    "  Function to simulate early stopping\n",
    "\n",
    "  Args:\n",
    "    args: dictionary\n",
    "      Dictionary with epochs: 200, lr: 5e-3, momentum: 0.9, device: DEVICE\n",
    "    model: nn.module\n",
    "      Neural network instance\n",
    "    train_loader: torch.loader\n",
    "      Train dataset\n",
    "    val_loader: torch.loader\n",
    "      Validation set\n",
    "\n",
    "  Returns:\n",
    "    val_acc_list: list\n",
    "      Val accuracy log until early stop point\n",
    "    train_acc_list: list\n",
    "      Training accuracy log until early stop point\n",
    "    best_model: nn.module\n",
    "      Model performing best with early stopping\n",
    "    best_epoch: int\n",
    "      Epoch at which early stopping occurs\n",
    "  \"\"\"\n",
    "  device = args['device']\n",
    "\n",
    "  model = model.to(device)\n",
    "  optimizer = optim.SGD(model.parameters(), lr=args['lr'], momentum=args['momentum'])\n",
    "\n",
    "  best_acc  = 0.0\n",
    "  best_epoch = 0\n",
    "\n",
    "  # Number of successive epochs that you want to wait before stopping training process\n",
    "  patience = 20\n",
    "\n",
    "  # Keps track of number of epochs during which the val_acc was less than best_acc\n",
    "  wait = 0\n",
    "\n",
    "  val_acc_list, train_acc_list = [], []\n",
    "  for epoch in tqdm(range(args['epochs'])):\n",
    "    trained_model = train(args, model, device, train_loader, optimizer, epoch)\n",
    "    train_acc = test(trained_model, train_loader, loader='Train', device=device)\n",
    "    val_acc = test(trained_model, val_loader, loader='Val', device=device)\n",
    "    if (val_acc > best_acc):\n",
    "      best_acc = val_acc\n",
    "      best_epoch = epoch\n",
    "      best_model = copy.deepcopy(trained_model)\n",
    "      wait = 0\n",
    "    else:\n",
    "      wait += 1\n",
    "    if (wait > patience):\n",
    "      print(f'Early stopped on epoch: {epoch}')\n",
    "      break\n",
    "    train_acc_list.append(train_acc)\n",
    "    val_acc_list.append(val_acc)\n",
    "\n",
    "  return val_acc_list, train_acc_list, best_model, best_epoch"
   ]
  },
  {
   "cell_type": "code",
   "execution_count": 18,
   "metadata": {
    "cellView": "form",
    "execution": {}
   },
   "outputs": [],
   "source": [
    "# @title Set random seed\n",
    "# @markdown Executing `set_seed(seed=seed)` you are setting the seed\n",
    "\n",
    "# For DL its critical to set the random seed so that students can have a\n",
    "# baseline to compare their results to expected results.\n",
    "# Read more here: https://pytorch.org/docs/stable/notes/randomness.html\n",
    "\n",
    "# Call `set_seed` function in the exercises to ensure reproducibility.\n",
    "import random\n",
    "import torch\n",
    "\n",
    "def set_seed(seed=None, seed_torch=True):\n",
    "  \"\"\"\n",
    "  Function that controls randomness. NumPy and random modules must be imported.\n",
    "\n",
    "  Args:\n",
    "    seed : Integer\n",
    "      A non-negative integer that defines the random state. Default is `None`.\n",
    "    seed_torch : Boolean\n",
    "      If `True` sets the random seed for pytorch tensors, so pytorch module\n",
    "      must be imported. Default is `True`.\n",
    "\n",
    "  Returns:\n",
    "    Nothing.\n",
    "  \"\"\"\n",
    "  if seed is None:\n",
    "    seed = np.random.choice(2 ** 32)\n",
    "  random.seed(seed)\n",
    "  np.random.seed(seed)\n",
    "  if seed_torch:\n",
    "    torch.manual_seed(seed)\n",
    "    torch.cuda.manual_seed_all(seed)\n",
    "    torch.cuda.manual_seed(seed)\n",
    "    torch.backends.cudnn.benchmark = False\n",
    "    torch.backends.cudnn.deterministic = True\n",
    "\n",
    "  print(f'Random seed {seed} has been set.')\n",
    "\n",
    "\n",
    "# In case that `DataLoader` is used\n",
    "def seed_worker(worker_id):\n",
    "  \"\"\"\n",
    "  DataLoader will reseed workers following randomness in\n",
    "  multi-process data loading algorithm.\n",
    "\n",
    "  Args:\n",
    "    worker_id: integer\n",
    "      ID of subprocess to seed. 0 means that\n",
    "      the data will be loaded in the main process\n",
    "      Refer: https://pytorch.org/docs/stable/data.html#data-loading-randomness for more details\n",
    "\n",
    "  Returns:\n",
    "    Nothing\n",
    "  \"\"\"\n",
    "  worker_seed = torch.initial_seed() % 2**32\n",
    "  np.random.seed(worker_seed)\n",
    "  random.seed(worker_seed)"
   ]
  },
  {
   "cell_type": "code",
   "execution_count": 19,
   "metadata": {
    "cellView": "form",
    "execution": {}
   },
   "outputs": [],
   "source": [
    "# @title Set device (GPU or CPU). Execute `set_device()`\n",
    "# especially if torch modules used.\n",
    "\n",
    "# Inform the user if the notebook uses GPU or CPU.\n",
    "\n",
    "def set_device():\n",
    "  \"\"\"\n",
    "  Set the device. CUDA if available, CPU otherwise\n",
    "\n",
    "  Args:\n",
    "    None\n",
    "\n",
    "  Returns:\n",
    "    Nothing\n",
    "  \"\"\"\n",
    "  device = \"cuda\" if torch.cuda.is_available() else \"cpu\"\n",
    "  if device != \"cuda\":\n",
    "    print(\"WARNING: For this notebook to perform best, \"\n",
    "        \"if possible, in the menu under `Runtime` -> \"\n",
    "        \"`Change runtime type.`  select `GPU` \")\n",
    "  else:\n",
    "    print(\"GPU is enabled in this notebook.\")\n",
    "\n",
    "  return device"
   ]
  },
  {
   "cell_type": "code",
   "execution_count": 20,
   "metadata": {
    "execution": {}
   },
   "outputs": [
    {
     "name": "stdout",
     "output_type": "stream",
     "text": [
      "Random seed 2021 has been set.\n",
      "GPU is enabled in this notebook.\n"
     ]
    }
   ],
   "source": [
    "SEED = 2021\n",
    "set_seed(seed=SEED)\n",
    "DEVICE = set_device()"
   ]
  },
  {
   "cell_type": "code",
   "execution_count": 31,
   "metadata": {
    "cellView": "form",
    "execution": {}
   },
   "outputs": [],
   "source": [
    "# @title Dataloaders for the Dataset\n",
    "## Dataloaders for the Dataset\n",
    "batch_size = 128\n",
    "classes = ('cat', 'dog', 'wild')\n",
    "\n",
    "train_transform = transforms.Compose([\n",
    "     transforms.ToTensor(),\n",
    "     transforms.Normalize((0.5, 0.5, 0.5), (0.5, 0.5, 0.5))\n",
    "     ])\n",
    "data_path = pathlib.Path(data_dir_path)/'afhq' # Using pathlib to be compatible with all OS's\n",
    "img_dataset = ImageFolder(data_path/'train', transform=train_transform)\n",
    "\n",
    "\n",
    "####################################################\n",
    "g_seed = torch.Generator()\n",
    "g_seed.manual_seed(SEED)\n",
    "\n",
    "\n",
    "## Dataloaders for the  Original Dataset\n",
    "img_train_data, img_val_data,_ = torch.utils.data.random_split(img_dataset,\n",
    "                                                               [100, 100, 14430])\n",
    "\n",
    "# Creating train_loader and Val_loader\n",
    "train_loader = torch.utils.data.DataLoader(img_train_data,\n",
    "                                           batch_size=batch_size,\n",
    "                                           worker_init_fn=seed_worker,\n",
    "                                           num_workers=2,\n",
    "                                           generator=g_seed)\n",
    "val_loader = torch.utils.data.DataLoader(img_val_data,\n",
    "                                         batch_size=1000,\n",
    "                                         num_workers=2,\n",
    "                                         worker_init_fn=seed_worker,\n",
    "                                         generator=g_seed)\n",
    "\n",
    "# Creating test dataset\n",
    "test_transform = transforms.Compose([\n",
    "     transforms.ToTensor(),\n",
    "     transforms.Normalize((0.5, 0.5, 0.5), (0.5, 0.5, 0.5))\n",
    "     ])\n",
    "img_test_dataset = ImageFolder(data_path/'val', transform=test_transform)\n",
    "\n",
    "\n",
    "####################################################\n",
    "\n",
    "## Dataloaders for the  Random Dataset\n",
    "\n",
    "# Splitting randomized data into training and validation data\n",
    "data_path = pathlib.Path(data_dir_path)/'afhq_random_32x32/afhq_random' # using pathlib to be compatible with all OS's\n",
    "img_dataset = ImageFolder(data_path/'train', transform=train_transform)\n",
    "random_img_train_data, random_img_val_data,_ = torch.utils.data.random_split(img_dataset, [100,100,14430])\n",
    "\n",
    "# Randomized train and validation dataloader\n",
    "rand_train_loader = torch.utils.data.DataLoader(random_img_train_data,\n",
    "                                                batch_size=batch_size,\n",
    "                                                num_workers=2,\n",
    "                                                worker_init_fn=seed_worker,\n",
    "                                                generator=g_seed)\n",
    "rand_val_loader = torch.utils.data.DataLoader(random_img_val_data,\n",
    "                                              batch_size=1000,\n",
    "                                              num_workers=2,\n",
    "                                              worker_init_fn=seed_worker,\n",
    "                                              generator=g_seed)\n",
    "\n",
    "####################################################\n",
    "\n",
    "## Dataloaders for the Partially Random Dataset\n",
    "\n",
    "# Splitting data between training and validation dataset for partially randomized data\n",
    "data_path = pathlib.Path(data_dir_path)/'afhq_10_32x32/afhq_10' # using pathlib to be compatible with all OS's\n",
    "img_dataset = ImageFolder(data_path/'train', transform=train_transform)\n",
    "partially_random_train_data, partially_random_val_data, _ = torch.utils.data.random_split(img_dataset, [100,100,14430])\n",
    "\n",
    "# Training and Validation loader for partially randomized data\n",
    "partial_rand_train_loader = torch.utils.data.DataLoader(partially_random_train_data,\n",
    "                                                        batch_size=batch_size,\n",
    "                                                        num_workers=2,\n",
    "                                                        worker_init_fn=seed_worker,\n",
    "                                                        generator=g_seed)\n",
    "partial_rand_val_loader = torch.utils.data.DataLoader(partially_random_val_data,\n",
    "                                                      batch_size=1000,\n",
    "                                                      num_workers=2,\n",
    "                                                      worker_init_fn=seed_worker,\n",
    "                                                      generator=g_seed)"
   ]
  },
  {
   "cell_type": "markdown",
   "metadata": {
    "execution": {}
   },
   "source": [
    "---\n",
    "# Section 1: L1 and L2 Regularization\n",
    "\n",
    "*Time estimate: ~30 mins*\n"
   ]
  },
  {
   "cell_type": "code",
   "execution_count": null,
   "metadata": {
    "cellView": "form",
    "execution": {}
   },
   "outputs": [],
   "source": [
    "# @title Video 1: L1 and L2 regression\n",
    "from ipywidgets import widgets\n",
    "\n",
    "out2 = widgets.Output()\n",
    "with out2:\n",
    "  from IPython.display import IFrame\n",
    "  class BiliVideo(IFrame):\n",
    "    def __init__(self, id, page=1, width=400, height=300, **kwargs):\n",
    "      self.id=id\n",
    "      src = \"https://player.bilibili.com/player.html?bvid={0}&page={1}\".format(id, page)\n",
    "      super(BiliVideo, self).__init__(src, width, height, **kwargs)\n",
    "\n",
    "  video = BiliVideo(id=f\"BV19h41167H7\", width=854, height=480, fs=1)\n",
    "  print(\"Video available at https://www.bilibili.com/video/{0}\".format(video.id))\n",
    "  display(video)\n",
    "\n",
    "out1 = widgets.Output()\n",
    "with out1:\n",
    "  from IPython.display import YouTubeVideo\n",
    "  video = YouTubeVideo(id=f\"oQNdloKdysM\", width=854, height=480, fs=1, rel=0)\n",
    "  print(\"Video available at https://youtube.com/watch?v=\" + video.id)\n",
    "  display(video)\n",
    "\n",
    "out = widgets.Tab([out1, out2])\n",
    "out.set_title(0, 'Youtube')\n",
    "out.set_title(1, 'Bilibili')\n",
    "\n",
    "# Add event to airtable\n",
    "atform.add_event('Video 1: L1 and L2 regression')\n",
    "\n",
    "display(out)"
   ]
  },
  {
   "cell_type": "markdown",
   "metadata": {
    "execution": {}
   },
   "source": [
    "Some of you might have already come across L1 and L2 regularization before in other courses. L1 and L2 are the most common types of regularization. These update the general cost function by adding another term known as the regularization term.\n",
    "\n",
    "<br>\n",
    "\n",
    "\\begin{equation}\n",
    "\\text{Cost function} = Loss(\\text{e.g., binary cross entropy}) + \\text{Regularization term}\n",
    "\\end{equation}\n",
    "\n",
    "<br>\n",
    "\n",
    "This regularization term makes the parameters smaller, giving simpler models that will overfit less.\n",
    "\n",
    "Discuss among your teammates whether the above assumption is good or bad?"
   ]
  },
  {
   "cell_type": "markdown",
   "metadata": {
    "execution": {}
   },
   "source": [
    "## Section 1.1: Unregularized Model"
   ]
  },
  {
   "cell_type": "code",
   "execution_count": 23,
   "metadata": {
    "cellView": "form",
    "execution": {}
   },
   "outputs": [],
   "source": [
    "# @markdown #### Dataloaders for Regularization\n",
    "data_path = pathlib.Path(data_dir_path)/'afhq' # Using pathlib to be compatible with all OS's\n",
    "img_dataset = ImageFolder(data_path/'train', transform=train_transform)\n",
    "\n",
    "# Splitting dataset\n",
    "reg_train_data, reg_val_data,_ = torch.utils.data.random_split(img_dataset,\n",
    "                                                               [30, 100, 14500])\n",
    "g_seed = torch.Generator()\n",
    "g_seed.manual_seed(SEED)\n",
    "\n",
    "# Creating train_loader and Val_loader\n",
    "reg_train_loader = torch.utils.data.DataLoader(reg_train_data,\n",
    "                                               batch_size=batch_size,\n",
    "                                               worker_init_fn=seed_worker,\n",
    "                                               num_workers=2,\n",
    "                                               generator=g_seed)\n",
    "reg_val_loader = torch.utils.data.DataLoader(reg_val_data,\n",
    "                                             batch_size=1000,\n",
    "                                             worker_init_fn=seed_worker,\n",
    "                                             num_workers=2,\n",
    "                                             generator=g_seed)"
   ]
  },
  {
   "cell_type": "markdown",
   "metadata": {
    "execution": {}
   },
   "source": [
    "Now let's train a model without regularization and keep it aside as our benchmark for this section."
   ]
  },
  {
   "cell_type": "code",
   "execution_count": 24,
   "metadata": {
    "execution": {}
   },
   "outputs": [
    {
     "name": "stdout",
     "output_type": "stream",
     "text": [
      "Random seed 2021 has been set.\n"
     ]
    },
    {
     "data": {
      "application/vnd.jupyter.widget-view+json": {
       "model_id": "d49e6fb8eaf745cbab846271255b09e2",
       "version_major": 2,
       "version_minor": 0
      },
      "text/plain": [
       "  0%|          | 0/150 [00:00<?, ?it/s]"
      ]
     },
     "metadata": {},
     "output_type": "display_data"
    },
    {
     "data": {
      "image/png": "[encoded data removed]",
      "text/plain": [
       "<Figure size 576x432 with 1 Axes>"
      ]
     },
     "metadata": {
      "image/png": {
       "height": 413,
       "width": 558
      },
      "needs_background": "light"
     },
     "output_type": "display_data"
    },
    {
     "name": "stdout",
     "output_type": "stream",
     "text": [
      "Maximum Validation Accuracy reached: 51.0\n"
     ]
    }
   ],
   "source": [
    "# Set the arguments\n",
    "args = {\n",
    "    'epochs': 150,\n",
    "    'lr': 5e-3,\n",
    "    'momentum': 0.99,\n",
    "    'device': DEVICE,\n",
    "}\n",
    "\n",
    "# Initialize the model\n",
    "set_seed(seed=SEED)\n",
    "model = AnimalNet()\n",
    "\n",
    "# Train the model\n",
    "val_acc_unreg, train_acc_unreg, param_norm_unreg, _ = main(args,\n",
    "                                                           model,\n",
    "                                                           reg_train_loader,\n",
    "                                                           reg_val_loader,\n",
    "                                                           img_test_dataset)\n",
    "\n",
    "# Train and Test accuracy plot\n",
    "plt.figure()\n",
    "plt.plot(val_acc_unreg, label='Val Accuracy', c='red', ls='dashed')\n",
    "plt.plot(train_acc_unreg, label='Train Accuracy', c='red', ls='solid')\n",
    "plt.axhline(y=max(val_acc_unreg), c='green', ls='dashed')\n",
    "plt.title('Unregularized Model')\n",
    "plt.ylabel('Accuracy (%)')\n",
    "plt.xlabel('Epoch')\n",
    "plt.legend()\n",
    "plt.show()\n",
    "print(f\"Maximum Validation Accuracy reached: {max(val_acc_unreg)}\")"
   ]
  },
  {
   "cell_type": "markdown",
   "metadata": {
    "execution": {}
   },
   "source": [
    "## Section 1.2: L1 Regularization"
   ]
  },
  {
   "cell_type": "markdown",
   "metadata": {
    "execution": {}
   },
   "source": [
    "L1 Regularization (or LASSO$^{\\ddagger}$) uses a penalty which is the sum of the absolute value of all the weights in the Deep Learning architecture, resulting in the following loss function ($L$ is the usual Cross-Entropy loss):\n",
    "\n",
    "\\begin{equation}\n",
    "  L_R = L + \\lambda \\sum \\left| w^{(r)}_{ij} \\right|\n",
    "\\end{equation}\n",
    "\n",
    "where $r$ denotes the layer, and $ij$ the specific weight in that layer.\n",
    "\n",
    "At a high level, L1 Regularization is similar to L2 Regularization since it leads to smaller weights (you will see the analogy in the next subsection). It results in the following weight update equation when using Stochastic Gradient Descent:\n",
    "\n",
    "\\begin{equation}\n",
    "  w^{(r)}_{ij}←w^{(r)}_{ij} − \\eta \\cdot \\lambda \\cdot \\text{sgn}\\left(w^{(r)}_{ij}\\right)−\\eta \\frac{\\partial L}{\\partial w_{ij}^{(r)}} \n",
    "\\end{equation}\n",
    "\n",
    "where  $\\text{sgn}(\\cdot)$ is the sign function, such that\n",
    "\n",
    "\\begin{equation}\n",
    "\\text{sgn}(w) = \n",
    "\\left\\{\n",
    "  \\begin{array}{ll}\n",
    "  +1 & \\mbox{if  } w > 0 \\\\\n",
    "  -1 & \\mbox{if  } w < 0 \\\\\n",
    "  0 & \\mbox{if  } w = 0\n",
    "  \\end{array}\n",
    "\\right.\n",
    "\\end{equation}\n",
    "\n",
    "<br>\n",
    "\n",
    "$^{\\ddagger}$LASSO: Least Absolute Shrinkage and Selection Operator"
   ]
  },
  {
   "cell_type": "markdown",
   "metadata": {
    "execution": {}
   },
   "source": [
    "### Coding Exercise 1.1: L1 Regularization\n",
    "\n",
    "Write a function that calculates the L1 norm of all the tensors of a PyTorch model."
   ]
  },
  {
   "cell_type": "code",
   "execution_count": 25,
   "metadata": {
    "execution": {}
   },
   "outputs": [
    {
     "name": "stdout",
     "output_type": "stream",
     "text": [
      "Random seed 2021 has been set.\n",
      "L1 norm of the model: 48.445133209228516\n"
     ]
    }
   ],
   "source": [
    "def l1_reg(model):\n",
    "  \"\"\"\n",
    "  This function calculates the l1 norm of the all the tensors in the model\n",
    "\n",
    "  Args:\n",
    "    model: nn.module\n",
    "      Neural network instance\n",
    "\n",
    "  Returns:\n",
    "    l1: float\n",
    "      L1 norm of the all the tensors in the model\n",
    "  \"\"\"\n",
    "  l1 = 0.0\n",
    "  ####################################################################\n",
    "  # Fill in all missing code below (...),\n",
    "  # then remove or comment the line below to test your function\n",
    "  ####################################################################\n",
    "  for param in model.parameters():\n",
    "    l1 += torch.abs(param).sum()\n",
    "\n",
    "  return l1\n",
    "\n",
    "# Add event to airtable\n",
    "atform.add_event('Coding Exercise 1.1: L1 Regularization')\n",
    "\n",
    "set_seed(seed=SEED)\n",
    "## uncomment to test\n",
    "net = nn.Linear(20, 20)\n",
    "print(f\"L1 norm of the model: {l1_reg(net)}\")"
   ]
  },
  {
   "cell_type": "markdown",
   "metadata": {
    "execution": {}
   },
   "source": [
    "```\n",
    "Random seed 2021 has been set.\n",
    "L1 norm of the model: 48.445133209228516\n",
    "```"
   ]
  },
  {
   "cell_type": "markdown",
   "metadata": {
    "execution": {}
   },
   "source": [
    "Now, let's train a classifier that uses L1 regularization. Tune the hyperparameter `lambda1` such that the validation accuracy is higher than that of the unregularized model."
   ]
  },
  {
   "cell_type": "code",
   "execution_count": 26,
   "metadata": {
    "execution": {}
   },
   "outputs": [
    {
     "name": "stdout",
     "output_type": "stream",
     "text": [
      "Random seed 2021 has been set.\n"
     ]
    },
    {
     "data": {
      "application/vnd.jupyter.widget-view+json": {
       "model_id": "96c4682accaa4ee4ace788478d7b74b2",
       "version_major": 2,
       "version_minor": 0
      },
      "text/plain": [
       "  0%|          | 0/150 [00:00<?, ?it/s]"
      ]
     },
     "metadata": {},
     "output_type": "display_data"
    },
    {
     "data": {
      "image/png": "[encoded data removed]",
      "text/plain": [
       "<Figure size 576x432 with 1 Axes>"
      ]
     },
     "metadata": {
      "image/png": {
       "height": 413,
       "width": 558
      },
      "needs_background": "light"
     },
     "output_type": "display_data"
    },
    {
     "name": "stdout",
     "output_type": "stream",
     "text": [
      "Maximum Validation Accuracy Reached: 52.0\n"
     ]
    }
   ],
   "source": [
    "# Set the arguments\n",
    "args1 = {\n",
    "    'test_batch_size': 1000,\n",
    "    'epochs': 150,\n",
    "    'lr': 5e-3,\n",
    "    'momentum': 0.99,\n",
    "    'device': DEVICE,\n",
    "    'lambda1': 0.001  # <<<<<<<< Tune the hyperparameter lambda1\n",
    "}\n",
    "\n",
    "# Initialize the model\n",
    "set_seed(seed=SEED)\n",
    "model = AnimalNet()\n",
    "\n",
    "# Train the model\n",
    "val_acc_l1reg, train_acc_l1reg, param_norm_l1reg, _ = main(args1,\n",
    "                                                           model,\n",
    "                                                           reg_train_loader,\n",
    "                                                           reg_val_loader,\n",
    "                                                           img_test_dataset,\n",
    "                                                           reg_function1=l1_reg)\n",
    "\n",
    "# Train and Test accuracy plot\n",
    "plt.figure()\n",
    "plt.plot(val_acc_l1reg, label='Val Accuracy L1 Regularized',\n",
    "         c='red', ls='dashed')\n",
    "plt.plot(train_acc_l1reg, label='Train Accuracy L1 regularized',\n",
    "         c='red', ls='solid')\n",
    "plt.axhline(y=max(val_acc_l1reg), c='green', ls='dashed')\n",
    "plt.title('L1 regularized model')\n",
    "plt.ylabel('Accuracy (%)')\n",
    "plt.xlabel('Epoch')\n",
    "plt.legend()\n",
    "plt.show()\n",
    "print(f\"Maximum Validation Accuracy Reached: {max(val_acc_l1reg)}\")"
   ]
  },
  {
   "cell_type": "markdown",
   "metadata": {
    "execution": {}
   },
   "source": [
    "What value of `lambda1` hyperparameter worked for L1 Regularization?\n",
    "\n",
    "**Note:** that the $\\lambda$ in the equations is the `lambda1` in the code for clarity."
   ]
  },
  {
   "cell_type": "markdown",
   "metadata": {
    "execution": {}
   },
   "source": [
    "## Section 1.3: L2 / Ridge Regularization"
   ]
  },
  {
   "cell_type": "markdown",
   "metadata": {
    "execution": {}
   },
   "source": [
    "L2 Regularization (or Ridge), also referred to as “Weight Decay”, is widely used. It works by adding a quadratic penalty term to the Cross-Entropy Loss Function $L$, which results in a new Loss Function $L_R$ given by:\n",
    "\n",
    "\\begin{equation}\n",
    "L_R = L + \\lambda \\sum \\left( w^{(r)}_{ij} \\right)^2\n",
    "\\end{equation}\n",
    "\n",
    "where, again, $r$ superscript denotes the layer, and $ij$ the specific weight in that layer.\n",
    "\n",
    "To get further insight into L2 Regularization, we investigate its effect on the Gradient Descent based update equations for the weight and bias parameters. Taking the derivative on both sides of the above equation, we obtain\n",
    "\n",
    "\\begin{equation}\n",
    "\\frac{\\partial L_R}{\\partial w^{(r)}_{ij}}=\\frac{\\partial L}{\\partial w^{(r)}_{ij}} + 2\\lambda w^{(r)}_{ij}\n",
    "\\end{equation}\n",
    "\n",
    "Thus the weight update rule becomes:\n",
    "\n",
    "\\begin{equation}\n",
    "w^{(r)}_{ij}←w^{(r)}_{ij}−η\\frac{\\partial L}{\\partial w^{(r)}_{ij}}−2 \\eta \\lambda w^{(r)}_{ij}=(1−2 \\eta \\lambda)w^{(r)}_{ij} − \\eta \\frac{\\partial L}{\\partial w^{(r)}_{ij}}\n",
    "\\end{equation}\n",
    "\n",
    "where $\\eta$ is the learning rate."
   ]
  },
  {
   "cell_type": "markdown",
   "metadata": {
    "execution": {}
   },
   "source": [
    "### Coding Exercise 1.2: L2 Regularization\n",
    "\n",
    "Write a function that calculates the L2 norm of all the tensors of a PyTorch model. (What did we call this before?)"
   ]
  },
  {
   "cell_type": "code",
   "execution_count": 32,
   "metadata": {
    "execution": {}
   },
   "outputs": [
    {
     "name": "stdout",
     "output_type": "stream",
     "text": [
      "Random seed 2021 has been set.\n",
      "L2 norm of the model: 7.328375816345215\n"
     ]
    }
   ],
   "source": [
    "def l2_reg(model):\n",
    "  \"\"\"\n",
    "  This function calculates the l2 norm of the all the tensors in the model\n",
    "\n",
    "  Args:\n",
    "    model: nn.module\n",
    "      Neural network instance\n",
    "\n",
    "  Returns:\n",
    "    l2: float\n",
    "      L2 norm of the all the tensors in the model\n",
    "  \"\"\"\n",
    "\n",
    "  l2 = 0.0\n",
    "  ####################################################################\n",
    "  # Fill in all missing code below (...),\n",
    "  # then remove or comment the line below to test your function\n",
    "  \n",
    "  ####################################################################\n",
    "  for param in model.parameters():\n",
    "    l2 += (param ** 2).sum()\n",
    "\n",
    "  return l2\n",
    "\n",
    "# Add event to airtable\n",
    "atform.add_event('Coding Exercise 1.2: L2 Regularization')\n",
    "\n",
    "set_seed(SEED)\n",
    "## uncomment to test\n",
    "net = nn.Linear(20, 20)\n",
    "print(f\"L2 norm of the model: {l2_reg(net)}\")"
   ]
  },
  {
   "cell_type": "markdown",
   "metadata": {
    "execution": {}
   },
   "source": [
    "```\n",
    "Random seed 2021 has been set.\n",
    "L2 norm of the model: 7.328375816345215\n",
    "```"
   ]
  },
  {
   "cell_type": "markdown",
   "metadata": {
    "execution": {}
   },
   "source": [
    "Now we'll train a classifier that uses L2 regularization. Tune the hyperparameter `lambda2` such that the validation accuracy is higher than that of the unregularized model."
   ]
  },
  {
   "cell_type": "code",
   "execution_count": 33,
   "metadata": {
    "execution": {}
   },
   "outputs": [
    {
     "name": "stdout",
     "output_type": "stream",
     "text": [
      "Random seed 2021 has been set.\n"
     ]
    },
    {
     "data": {
      "application/vnd.jupyter.widget-view+json": {
       "model_id": "5db7db6888264ed3a3a7928421cc9265",
       "version_major": 2,
       "version_minor": 0
      },
      "text/plain": [
       "  0%|          | 0/150 [00:00<?, ?it/s]"
      ]
     },
     "metadata": {},
     "output_type": "display_data"
    },
    {
     "data": {
      "image/png": "[encoded data removed]",
      "text/plain": [
       "<Figure size 576x432 with 1 Axes>"
      ]
     },
     "metadata": {
      "image/png": {
       "height": 413,
       "width": 558
      },
      "needs_background": "light"
     },
     "output_type": "display_data"
    },
    {
     "name": "stdout",
     "output_type": "stream",
     "text": [
      "Maximum Validation Accuracy reached: 67.0\n"
     ]
    }
   ],
   "source": [
    "# Set the arguments\n",
    "args2 = {\n",
    "    'test_batch_size': 1000,\n",
    "    'epochs': 150,\n",
    "    'lr': 5e-3,\n",
    "    'momentum': 0.99,\n",
    "    'device': DEVICE,\n",
    "    'lambda2': 0.001  # <<<<<<<< Tune the hyperparameter lambda2\n",
    "}\n",
    "\n",
    "# Initialize the model\n",
    "set_seed(seed=SEED)\n",
    "model = AnimalNet()\n",
    "\n",
    "# Train the model\n",
    "val_acc_l2reg, train_acc_l2reg, param_norm_l2reg, model = main(args2,\n",
    "                                                               model,\n",
    "                                                               train_loader,\n",
    "                                                               val_loader,\n",
    "                                                               img_test_dataset,\n",
    "                                                               reg_function2=l2_reg)\n",
    "\n",
    "## Train and Test accuracy plot\n",
    "plt.figure()\n",
    "plt.plot(val_acc_l2reg, label='Val Accuracy L2 regularized',\n",
    "         c='red', ls='dashed')\n",
    "plt.plot(train_acc_l2reg, label='Train Accuracy L2 regularized',\n",
    "         c='red', ls='solid')\n",
    "plt.axhline(y=max(val_acc_l2reg), c='green', ls='dashed')\n",
    "plt.title('L2 Regularized Model')\n",
    "plt.ylabel('Accuracy (%)')\n",
    "plt.xlabel('Epoch')\n",
    "plt.legend()\n",
    "plt.show()\n",
    "print(f\"Maximum Validation Accuracy reached: {max(val_acc_l2reg)}\")"
   ]
  },
  {
   "cell_type": "markdown",
   "metadata": {
    "execution": {}
   },
   "source": [
    "What value `lambda2` worked for L2 Regularization?\n",
    "\n",
    "**Note:** that the $\\lambda$ in the equations is the `lambda2` in the code for clarity."
   ]
  },
  {
   "cell_type": "markdown",
   "metadata": {
    "execution": {}
   },
   "source": [
    "Now, let's run a model with both L1 and L2 regularization terms."
   ]
  },
  {
   "cell_type": "code",
   "execution_count": 34,
   "metadata": {
    "cellView": "form",
    "execution": {}
   },
   "outputs": [
    {
     "name": "stdout",
     "output_type": "stream",
     "text": [
      "Random seed 2021 has been set.\n"
     ]
    },
    {
     "data": {
      "application/vnd.jupyter.widget-view+json": {
       "model_id": "6f660c70aead40c9b4a98ba7770dc5f9",
       "version_major": 2,
       "version_minor": 0
      },
      "text/plain": [
       "  0%|          | 0/150 [00:00<?, ?it/s]"
      ]
     },
     "metadata": {},
     "output_type": "display_data"
    },
    {
     "data": {
      "image/png": "[encoded data removed]",
      "text/plain": [
       "<Figure size 576x432 with 1 Axes>"
      ]
     },
     "metadata": {
      "image/png": {
       "height": 413,
       "width": 558
      },
      "needs_background": "light"
     },
     "output_type": "display_data"
    }
   ],
   "source": [
    "# @markdown Visualize all of them together (Run Me!)\n",
    "\n",
    "# @markdown `lambda1=0.001` and `lambda2=0.001`\n",
    "\n",
    "args3 = {\n",
    "    'test_batch_size': 1000,\n",
    "    'epochs': 150,\n",
    "    'lr': 5e-3,\n",
    "    'momentum': 0.99,\n",
    "    'device': DEVICE,\n",
    "    'lambda1': 0.001,\n",
    "    'lambda2': 0.001\n",
    "}\n",
    "\n",
    "# Initialize the model\n",
    "set_seed(seed=SEED)\n",
    "model = AnimalNet()\n",
    "val_acc_l1l2reg, train_acc_l1l2reg, param_norm_l1l2reg, _ = main(args3,\n",
    "                                                                 model,\n",
    "                                                                 train_loader,\n",
    "                                                                 val_loader,\n",
    "                                                                 img_test_dataset,\n",
    "                                                                 reg_function1=l1_reg,\n",
    "                                                                 reg_function2=l2_reg)\n",
    "\n",
    "plt.figure()\n",
    "\n",
    "plt.plot(val_acc_l2reg, c='red', ls='dashed')\n",
    "plt.plot(train_acc_l2reg,\n",
    "         label=f\"L2 regularized, $\\lambda_2$={args2['lambda2']}\",\n",
    "         c='red', ls='solid')\n",
    "plt.axhline(y=max(val_acc_l2reg), c='red', ls='dashed')\n",
    "\n",
    "plt.plot(val_acc_l1reg, c='green', ls = 'dashed')\n",
    "plt.plot(train_acc_l1reg,\n",
    "         label=f\"L1 regularized, $\\lambda_1$={args1['lambda1']}\",\n",
    "         c='green', ls='solid')\n",
    "plt.axhline(y=max(val_acc_l1reg), c='green', ls='dashed')\n",
    "\n",
    "plt.plot(val_acc_unreg, c='blue', ls = 'dashed')\n",
    "plt.plot(train_acc_unreg,\n",
    "         label='Unregularized', c='blue', ls='solid')\n",
    "plt.axhline(y=max(val_acc_unreg), c='blue', ls='dashed')\n",
    "\n",
    "plt.plot(val_acc_l1l2reg, c='orange', ls='dashed')\n",
    "plt.plot(train_acc_l1l2reg,\n",
    "         label=f\"L1+L2 regularized, $\\lambda_1$={args3['lambda1']}, $\\lambda_2$={args3['lambda2']}\",\n",
    "         c='orange', ls='solid')\n",
    "plt.axhline(y=max(val_acc_l1l2reg), c='orange', ls = 'dashed')\n",
    "\n",
    "plt.xlabel('Epoch')\n",
    "plt.ylabel('Accuracy (%)')\n",
    "plt.legend()\n",
    "plt.show()"
   ]
  },
  {
   "cell_type": "markdown",
   "metadata": {
    "execution": {}
   },
   "source": [
    "Now, let's visualize what these different regularizations do to the model's parameters. We observe the effect by computing the size (technically, the Frobenius norm)."
   ]
  },
  {
   "cell_type": "code",
   "execution_count": 35,
   "metadata": {
    "execution": {}
   },
   "outputs": [
    {
     "name": "stdout",
     "output_type": "stream",
     "text": [
      "tensor(7.3810, device='cuda:0')\n"
     ]
    }
   ],
   "source": [
    "x =  param_norm_unreg[0]\n",
    "print(x)"
   ]
  },
  {
   "cell_type": "code",
   "execution_count": 36,
   "metadata": {
    "cellView": "form",
    "execution": {}
   },
   "outputs": [
    {
     "data": {
      "image/png": "[encoded data removed]",
      "text/plain": [
       "<Figure size 576x432 with 1 Axes>"
      ]
     },
     "metadata": {
      "image/png": {
       "height": 413,
       "width": 558
      },
      "needs_background": "light"
     },
     "output_type": "display_data"
    }
   ],
   "source": [
    "# @markdown #### Visualize Norm of the Models (Train Me!)\n",
    "plt.figure()\n",
    "plt.plot([i.cpu().numpy() for i in param_norm_unreg],\n",
    "         label='Unregularized', c='blue')\n",
    "plt.plot([i.cpu().numpy() for i in param_norm_l1reg],\n",
    "         label='L1 Regularized', c='green')\n",
    "plt.plot([i.cpu().numpy() for i in param_norm_l2reg],\n",
    "         label='L2 Regularized', c='red')\n",
    "plt.plot([i.cpu().numpy() for i in param_norm_l1l2reg],\n",
    "         label='L1+L2 Regularized', c='orange')\n",
    "plt.xlabel('Epoch')\n",
    "plt.ylabel('Parameter Norms')\n",
    "plt.legend()\n",
    "plt.show()"
   ]
  },
  {
   "cell_type": "markdown",
   "metadata": {
    "execution": {}
   },
   "source": [
    "In the above plots, you should have seen that the validation accuracies fluctuate even after the model achieves 100% train accuracy. Thus, the model is still trying to learn something. Why would this be the case?"
   ]
  },
  {
   "cell_type": "markdown",
   "metadata": {
    "execution": {}
   },
   "source": [
    "---\n",
    "# Section 2: Dropout\n",
    "\n",
    "*Time estimate: ~25 mins*\n"
   ]
  },
  {
   "cell_type": "code",
   "execution_count": null,
   "metadata": {
    "cellView": "form",
    "execution": {}
   },
   "outputs": [],
   "source": [
    "# @title Video 2: Dropout\n",
    "from ipywidgets import widgets\n",
    "\n",
    "out2 = widgets.Output()\n",
    "with out2:\n",
    "  from IPython.display import IFrame\n",
    "  class BiliVideo(IFrame):\n",
    "    def __init__(self, id, page=1, width=400, height=300, **kwargs):\n",
    "      self.id=id\n",
    "      src = \"https://player.bilibili.com/player.html?bvid={0}&page={1}\".format(id, page)\n",
    "      super(BiliVideo, self).__init__(src, width, height, **kwargs)\n",
    "\n",
    "  video = BiliVideo(id=f\"BV1gU4y1G7V2\", width=854, height=480, fs=1)\n",
    "  print(\"Video available at https://www.bilibili.com/video/{0}\".format(video.id))\n",
    "  display(video)\n",
    "\n",
    "out1 = widgets.Output()\n",
    "with out1:\n",
    "  from IPython.display import YouTubeVideo\n",
    "  video = YouTubeVideo(id=f\"UZfUzawej3A\", width=854, height=480, fs=1, rel=0)\n",
    "  print(\"Video available at https://youtube.com/watch?v=\" + video.id)\n",
    "  display(video)\n",
    "\n",
    "out = widgets.Tab([out1, out2])\n",
    "out.set_title(0, 'Youtube')\n",
    "out.set_title(1, 'Bilibili')\n",
    "\n",
    "# Add event to airtable\n",
    "atform.add_event('Video 2: Dropout')\n",
    "\n",
    "display(out)"
   ]
  },
  {
   "cell_type": "markdown",
   "metadata": {
    "execution": {}
   },
   "source": [
    "With Dropout, we literally drop out (zero out) some neurons during training. Throughout the training, the standard dropout zeros out some fraction (usually 50%) of the nodes in each layer, and on each iteration, before calculating the subsequent layer. Randomly selecting different subsets to drop out introduces noise into the process and reduces overfitting.\n",
    "\n",
    "<br>\n",
    "\n",
    "<center><img src=\"https://d2l.ai/_images/dropout2.svg\" alt=\"Dropout\" width=\"600\"/></center>\n",
    "\n",
    "<br>\n"
   ]
  },
  {
   "cell_type": "markdown",
   "metadata": {
    "execution": {}
   },
   "source": [
    "Now let's revisit the toy dataset we generated above to visualize how the Dropout stabilizes training on a noisy dataset. We will slightly modify the architecture we used above to add dropout layers."
   ]
  },
  {
   "cell_type": "code",
   "execution_count": null,
   "metadata": {
    "execution": {}
   },
   "outputs": [],
   "source": [
    "class NetDropout(nn.Module):\n",
    "  \"\"\"\n",
    "  Network Class - 2D with the following structure:\n",
    "  nn.Linear(1, 300) + leaky_relu(self.dropout1(self.fc1(x))) # First fully connected layer with 0.4 dropout\n",
    "  nn.Linear(300, 500) + leaky_relu(self.dropout2(self.fc2(x))) # Second fully connected layer with 0.2 dropout\n",
    "  nn.Linear(500, 1) # Final fully connected layer\n",
    "  \"\"\"\n",
    "\n",
    "  def __init__(self):\n",
    "    \"\"\"\n",
    "    Initialize parameters of NetDropout\n",
    "\n",
    "    Args:\n",
    "      None\n",
    "\n",
    "    Returns:\n",
    "      Nothing\n",
    "    \"\"\"\n",
    "    super(NetDropout, self).__init__()\n",
    "\n",
    "    self.fc1 = nn.Linear(1, 300)\n",
    "    self.fc2 = nn.Linear(300, 500)\n",
    "    self.fc3 = nn.Linear(500, 1)\n",
    "    # We add two dropout layers\n",
    "    self.dropout1 = nn.Dropout(0.4)\n",
    "    self.dropout2 = nn.Dropout(0.2)\n",
    "\n",
    "  def forward(self, x):\n",
    "    \"\"\"\n",
    "    Forward pass of NetDropout\n",
    "\n",
    "    Args:\n",
    "      x: torch.tensor\n",
    "        Input features\n",
    "\n",
    "    Returns:\n",
    "      output: torch.tensor\n",
    "        Output/Predictions\n",
    "    \"\"\"\n",
    "    x = F.leaky_relu(self.dropout1(self.fc1(x)))\n",
    "    x = F.leaky_relu(self.dropout2(self.fc2(x)))\n",
    "    output = self.fc3(x)\n",
    "    return output"
   ]
  },
  {
   "cell_type": "code",
   "execution_count": null,
   "metadata": {
    "cellView": "form",
    "execution": {}
   },
   "outputs": [],
   "source": [
    "# @markdown #### Run to train the default network\n",
    "set_seed(seed=SEED)\n",
    "\n",
    "# Creating train data\n",
    "X = torch.rand((10, 1))\n",
    "X.sort(dim = 0)\n",
    "Y = 2*X + 2*torch.empty((X.shape[0], 1)).normal_(mean=0, std=1)  # adding small error in the data\n",
    "\n",
    "X = X.unsqueeze_(1)\n",
    "Y = Y.unsqueeze_(1)\n",
    "\n",
    "# Creating test dataset\n",
    "X_test = torch.linspace(0, 1, 40)\n",
    "X_test = X_test.reshape((40, 1, 1))\n",
    "\n",
    "# Train the network on toy dataset\n",
    "model = Net()\n",
    "criterion = nn.MSELoss()\n",
    "optimizer = optim.Adam(model.parameters(), lr=1e-4)\n",
    "max_epochs = 10000\n",
    "iters = 0\n",
    "\n",
    "running_predictions = np.empty((40, (int)(max_epochs/500 + 1)))\n",
    "\n",
    "train_loss = []\n",
    "test_loss = []\n",
    "model_norm = []\n",
    "\n",
    "for epoch in tqdm(range(max_epochs)):\n",
    "\n",
    "  # Training\n",
    "  model_norm.append(calculate_frobenius_norm(model))\n",
    "  model.train()\n",
    "  optimizer.zero_grad()\n",
    "  predictions = model(X)\n",
    "  loss = criterion(predictions,Y)\n",
    "  loss.backward()\n",
    "  optimizer.step()\n",
    "\n",
    "  train_loss.append(loss.data)\n",
    "  model.eval()\n",
    "  Y_test = model(X_test)\n",
    "  loss = criterion(Y_test, 2*X_test)\n",
    "  test_loss.append(loss.data)\n",
    "\n",
    "  if (epoch % 500 == 0 or epoch == max_epochs - 1):\n",
    "    running_predictions[:, iters] = Y_test[:, 0, 0].detach().numpy()\n",
    "    iters += 1"
   ]
  },
  {
   "cell_type": "code",
   "execution_count": null,
   "metadata": {
    "execution": {}
   },
   "outputs": [],
   "source": [
    "# Train the network on toy dataset\n",
    "\n",
    "# Initialize the model\n",
    "set_seed(seed=SEED)\n",
    "model = NetDropout()\n",
    "criterion = nn.MSELoss()\n",
    "optimizer = optim.Adam(model.parameters(), lr=1e-4)\n",
    "max_epochs = 10000\n",
    "iters = 0\n",
    "\n",
    "running_predictions_dp = np.empty((40, (int)(max_epochs / 500)))\n",
    "\n",
    "train_loss_dp = []\n",
    "test_loss_dp = []\n",
    "model_norm_dp = []\n",
    "\n",
    "for epoch in tqdm(range(max_epochs)):\n",
    "\n",
    "  # Training\n",
    "  model_norm_dp.append(calculate_frobenius_norm(model))\n",
    "  model.train()\n",
    "  optimizer.zero_grad()\n",
    "  predictions = model(X)\n",
    "  loss = criterion(predictions, Y)\n",
    "  loss.backward()\n",
    "  optimizer.step()\n",
    "\n",
    "  train_loss_dp.append(loss.data)\n",
    "  model.eval()\n",
    "  Y_test = model(X_test)\n",
    "  loss = criterion(Y_test, 2*X_test)\n",
    "  test_loss_dp.append(loss.data)\n",
    "\n",
    "  if (epoch % 500 == 0 or epoch == max_epochs):\n",
    "    running_predictions_dp[:, iters] = Y_test[:, 0, 0].detach().numpy()\n",
    "    iters += 1"
   ]
  },
  {
   "cell_type": "markdown",
   "metadata": {
    "execution": {}
   },
   "source": [
    "Now that we have finished the training, let's see how the model has evolved over the training process."
   ]
  },
  {
   "cell_type": "code",
   "execution_count": null,
   "metadata": {
    "cellView": "form",
    "execution": {}
   },
   "outputs": [],
   "source": [
    "# @markdown Animation! (Run Me!)\n",
    "set_seed(seed=SEED)\n",
    "\n",
    "fig = plt.figure(figsize=(8, 6))\n",
    "ax = plt.axes()\n",
    "\n",
    "def frame(i):\n",
    "  ax.clear()\n",
    "  ax.scatter(X[:, 0, :].numpy(), Y[:, 0, :].numpy())\n",
    "  plot = ax.plot(X_test[:, 0, :].detach().numpy(),\n",
    "                 running_predictions_dp[:, i])\n",
    "  title = f\"Epoch: {i*500}\"\n",
    "  plt.title(title)\n",
    "  ax.set_xlabel(\"X axis\")\n",
    "  ax.set_ylabel(\"Y axis\")\n",
    "  return plot\n",
    "\n",
    "\n",
    "anim = animation.FuncAnimation(fig, frame, frames=range(20),\n",
    "                               blit=False, repeat=False,\n",
    "                               repeat_delay=10000)\n",
    "html_anim = HTML(anim.to_html5_video());\n",
    "plt.close()\n",
    "display(html_anim)"
   ]
  },
  {
   "cell_type": "code",
   "execution_count": null,
   "metadata": {
    "cellView": "form",
    "execution": {}
   },
   "outputs": [],
   "source": [
    "# @markdown Plot the train and test losses with epoch\n",
    "\n",
    "plt.figure()\n",
    "plt.plot(test_loss_dp, label='Test loss dropout', c='blue', ls='dashed')\n",
    "plt.plot(test_loss, label='Test loss', c='red', ls='dashed')\n",
    "plt.ylabel('Loss')\n",
    "plt.xlabel('Epochs')\n",
    "plt.title('Dropout vs Without dropout')\n",
    "plt.legend()\n",
    "plt.show()"
   ]
  },
  {
   "cell_type": "code",
   "execution_count": null,
   "metadata": {
    "cellView": "form",
    "execution": {}
   },
   "outputs": [],
   "source": [
    "# @markdown Plot the train and test losses with epoch\n",
    "\n",
    "plt.figure()\n",
    "plt.plot(train_loss_dp, label='Train loss dropout', c='blue', ls='dashed')\n",
    "plt.plot(train_loss, label='Train loss', c='red', ls='dashed')\n",
    "plt.ylabel('Loss')\n",
    "plt.xlabel('Epochs')\n",
    "plt.title('Dropout vs Without dropout')\n",
    "plt.legend()\n",
    "plt.show()"
   ]
  },
  {
   "cell_type": "code",
   "execution_count": null,
   "metadata": {
    "cellView": "form",
    "execution": {}
   },
   "outputs": [],
   "source": [
    "# @markdown Plot model weights with epoch\n",
    "plt.figure()\n",
    "plt.plot(model_norm_dp, label='Dropout')\n",
    "plt.plot(model_norm, label='No dropout')\n",
    "plt.ylabel('Norm of the model')\n",
    "plt.xlabel('Epochs')\n",
    "plt.legend()\n",
    "plt.title('Size of the model vs Epochs')\n",
    "plt.show()"
   ]
  },
  {
   "cell_type": "markdown",
   "metadata": {
    "execution": {}
   },
   "source": [
    "Do you think this (with dropout) performed better than the initial model (without dropout)?"
   ]
  },
  {
   "cell_type": "code",
   "execution_count": null,
   "metadata": {
    "execution": {}
   },
   "outputs": [],
   "source": [
    "# to_remove explanation\n",
    "\n",
    "\"\"\"\n",
    "Yes. Dropout drops a percentage of neurons during training, thus\n",
    "forcing the model to learn a more robust representation.\n",
    "\"\"\";"
   ]
  },
  {
   "cell_type": "markdown",
   "metadata": {
    "execution": {}
   },
   "source": [
    "## Section 2.1: Dropout Implementation Caveats"
   ]
  },
  {
   "cell_type": "markdown",
   "metadata": {
    "execution": {}
   },
   "source": [
    "* Dropout is used only during training. However, the complete model weights are used during testing, so it is vital to use the `model.eval()` method before testing the model. \n",
    "\n",
    "* Dropout reduces the capacity of the model during training, and hence as a general practice, wider networks are used when using dropout. If you are using a dropout with a random probability of 0.5, you might want to double the number of hidden neurons in that layer."
   ]
  },
  {
   "cell_type": "markdown",
   "metadata": {
    "execution": {}
   },
   "source": [
    "Now, let's see how dropout fares on the “Animal Faces” dataset. We first modify the existing model to include dropout and then train it."
   ]
  },
  {
   "cell_type": "code",
   "execution_count": null,
   "metadata": {
    "execution": {}
   },
   "outputs": [],
   "source": [
    "class AnimalNetDropout(nn.Module):\n",
    "  \"\"\"\n",
    "  Network Class - Animal Faces with following structure\n",
    "  nn.Linear(3*32*32, 248) + leaky_relu(self.dropout1(self.fc1(x))) # First fully connected layer with 0.5 dropout\n",
    "  nn.Linear(248, 210) + leaky_relu(self.dropout2(self.fc2(x))) # Second fully connected layer with 0.3 dropout\n",
    "  nn.Linear(210, 3) # Final fully connected layer\n",
    "  \"\"\"\n",
    "\n",
    "  def __init__(self):\n",
    "    \"\"\"\n",
    "    Initialize parameters of AnimalNetDropout\n",
    "\n",
    "    Args:\n",
    "      None\n",
    "\n",
    "    Returns:\n",
    "      Nothing\n",
    "    \"\"\"\n",
    "    super(AnimalNetDropout, self).__init__()\n",
    "    self.fc1 = nn.Linear(3*32*32, 248)\n",
    "    self.fc2 = nn.Linear(248, 210)\n",
    "    self.fc3 = nn.Linear(210, 3)\n",
    "    self.dropout1 = nn.Dropout(p=0.5)\n",
    "    self.dropout2 = nn.Dropout(p=0.3)\n",
    "\n",
    "  def forward(self, x):\n",
    "    \"\"\"\n",
    "    Forward pass of AnimalNetDropout\n",
    "\n",
    "    Args:\n",
    "      x: torch.tensor\n",
    "        Input features\n",
    "\n",
    "    Returns:\n",
    "      x: torch.tensor\n",
    "        Output/Predictions\n",
    "    \"\"\"\n",
    "    x = x.view(x.shape[0], -1)\n",
    "    x = F.leaky_relu(self.dropout1(self.fc1(x)))\n",
    "    x = F.leaky_relu(self.dropout2(self.fc2(x)))\n",
    "    x = self.fc3(x)\n",
    "    output = F.log_softmax(x, dim=1)\n",
    "    return output"
   ]
  },
  {
   "cell_type": "code",
   "execution_count": null,
   "metadata": {
    "execution": {}
   },
   "outputs": [],
   "source": [
    "# Set the arguments\n",
    "args = {\n",
    "    'test_batch_size': 1000,\n",
    "    'epochs': 200,\n",
    "    'lr': 5e-3,\n",
    "    'batch_size': 32,\n",
    "    'momentum': 0.9,\n",
    "    'device': DEVICE,\n",
    "    'log_interval': 100\n",
    "}\n",
    "\n",
    "# Initialize the model\n",
    "set_seed(seed=SEED)\n",
    "model = AnimalNetDropout()\n",
    "\n",
    "# Train the model with Dropout\n",
    "val_acc_dropout, train_acc_dropout, _, model_dp = main(args,\n",
    "                                                       model,\n",
    "                                                       train_loader,\n",
    "                                                       val_loader,\n",
    "                                                       img_test_dataset)\n",
    "\n",
    "# Initialize the BigAnimalNet model\n",
    "set_seed(seed=SEED)\n",
    "model = BigAnimalNet()\n",
    "\n",
    "# Train the model\n",
    "val_acc_big, train_acc_big, _, model_big = main(args,\n",
    "                                                model,\n",
    "                                                train_loader,\n",
    "                                                val_loader,\n",
    "                                                img_test_dataset)\n",
    "\n",
    "\n",
    "# Train and Test accuracy plot\n",
    "plt.figure()\n",
    "plt.plot(val_acc_big, label='Val - Big', c='blue', ls='dashed')\n",
    "plt.plot(train_acc_big, label='Train - Big', c='blue', ls='solid')\n",
    "plt.plot(val_acc_dropout, label='Val - DP', c='magenta', ls='dashed')\n",
    "plt.plot(train_acc_dropout, label='Train - DP', c='magenta', ls='solid')\n",
    "plt.title('Dropout')\n",
    "plt.ylabel('Accuracy (%)')\n",
    "plt.xlabel('Epoch')\n",
    "plt.legend()\n",
    "plt.show()"
   ]
  },
  {
   "cell_type": "markdown",
   "metadata": {
    "execution": {}
   },
   "source": [
    "When do you think dropouts can perform bad and do you think their placement within a model matters?"
   ]
  },
  {
   "cell_type": "code",
   "execution_count": null,
   "metadata": {
    "execution": {}
   },
   "outputs": [],
   "source": [
    "# to_remove explanation\n",
    "\n",
    "\"\"\"\n",
    "Dropout is an effective regularization technique but may hurt model performance\n",
    "if the model does not overfit i.e., low model capacity.\n",
    "\n",
    "Placement of dropout within the model matters.\n",
    "For instance,\n",
    "Dropout is generally not applied immediately before the last layer,\n",
    "because the network has no ability to \"correct\" errors induced by\n",
    "dropout before the classification happens.\n",
    "Additionally, if the model is not trained until convergence,\n",
    "dropout may give worse results. Usually dropout hurts performance at the start\n",
    "of training, but results in the final \"converged\" error being lower.\n",
    "\"\"\";"
   ]
  },
  {
   "cell_type": "markdown",
   "metadata": {
    "execution": {}
   },
   "source": [
    "---\n",
    "# Section 3: Data Augmentation\n",
    "\n",
    "*Time estimate: ~15 mins*\n"
   ]
  },
  {
   "cell_type": "code",
   "execution_count": null,
   "metadata": {
    "cellView": "form",
    "execution": {}
   },
   "outputs": [],
   "source": [
    "# @title Video 3: Data Augmentation\n",
    "from ipywidgets import widgets\n",
    "\n",
    "out2 = widgets.Output()\n",
    "with out2:\n",
    "  from IPython.display import IFrame\n",
    "  class BiliVideo(IFrame):\n",
    "    def __init__(self, id, page=1, width=400, height=300, **kwargs):\n",
    "      self.id=id\n",
    "      src = \"https://player.bilibili.com/player.html?bvid={0}&page={1}\".format(id, page)\n",
    "      super(BiliVideo, self).__init__(src, width, height, **kwargs)\n",
    "\n",
    "  video = BiliVideo(id=f\"BV1Xw411d7Pz\", width=854, height=480, fs=1)\n",
    "  print(\"Video available at https://www.bilibili.com/video/{0}\".format(video.id))\n",
    "  display(video)\n",
    "\n",
    "out1 = widgets.Output()\n",
    "with out1:\n",
    "  from IPython.display import YouTubeVideo\n",
    "  video = YouTubeVideo(id=f\"nm44FhjL3xc\", width=854, height=480, fs=1, rel=0)\n",
    "  print(\"Video available at https://youtube.com/watch?v=\" + video.id)\n",
    "  display(video)\n",
    "\n",
    "out = widgets.Tab([out1, out2])\n",
    "out.set_title(0, 'Youtube')\n",
    "out.set_title(1, 'Bilibili')\n",
    "\n",
    "# add event to airtable\n",
    "atform.add_event('Video 3: Data Augmentation')\n",
    "\n",
    "display(out)"
   ]
  },
  {
   "cell_type": "markdown",
   "metadata": {
    "execution": {}
   },
   "source": [
    "Data augmentation is often used to increase the number of training samples. Now we will explore the effects of data augmentation on regularization. Here regularization is achieved by adding noise into training data after every epoch.\n",
    "\n",
    "PyTorch's torchvision module provides a few built-in data augmentation techniques, which we can use on image datasets. Some of the techniques we most frequently use are:\n",
    "\n",
    "* Random Crop\n",
    "* Random Rotate\n",
    "* Vertical Flip\n",
    "* Horizontal Flip"
   ]
  },
  {
   "cell_type": "code",
   "execution_count": null,
   "metadata": {
    "cellView": "form",
    "execution": {}
   },
   "outputs": [],
   "source": [
    "# @markdown ####  Data Loader without Data Augmentation\n",
    "\n",
    "# For reproducibility\n",
    "g_seed = torch.Generator()\n",
    "g_seed.manual_seed(SEED)\n",
    "\n",
    "\n",
    "train_transform = transforms.Compose([\n",
    "     transforms.ToTensor(),\n",
    "     transforms.Normalize((0.5, 0.5, 0.5), (0.5, 0.5, 0.5))\n",
    "     ])\n",
    "data_path = pathlib.Path('.')/'afhq' # Using pathlib to be compatible with all OS's\n",
    "img_dataset = ImageFolder(data_path/'train', transform=train_transform)\n",
    "\n",
    "# Splitting dataset\n",
    "img_train_data, img_val_data,_ = torch.utils.data.random_split(img_dataset, [250,100,14280])\n",
    "\n",
    "# Creating train_loader and Val_loader\n",
    "train_loader = torch.utils.data.DataLoader(img_train_data,\n",
    "                                           batch_size=batch_size,\n",
    "                                           num_workers=2,\n",
    "                                           worker_init_fn=seed_worker,\n",
    "                                           generator=g_seed)\n",
    "val_loader = torch.utils.data.DataLoader(img_val_data,\n",
    "                                         batch_size=1000,\n",
    "                                         num_workers=2,\n",
    "                                         worker_init_fn=seed_worker,\n",
    "                                         generator=g_seed)"
   ]
  },
  {
   "cell_type": "markdown",
   "metadata": {
    "execution": {}
   },
   "source": [
    "Define a DataLoader using `torchvision.transforms`, which randomly augments the data for us. For more info, see [here](https://pytorch.org/vision/stable/transforms.html)."
   ]
  },
  {
   "cell_type": "code",
   "execution_count": null,
   "metadata": {
    "execution": {}
   },
   "outputs": [],
   "source": [
    "# Data Augmentation using transforms\n",
    "new_transforms = transforms.Compose([\n",
    "                                     transforms.RandomHorizontalFlip(p=0.1),\n",
    "                                     transforms.RandomVerticalFlip(p=0.1),\n",
    "                                     transforms.ToTensor(),\n",
    "                                     transforms.Normalize((0.5, 0.5, 0.5),\n",
    "                                                          (0.5, 0.5, 0.5))\n",
    "                                     ])\n",
    "\n",
    "data_path = pathlib.Path('.')/'afhq'  # Using pathlib to be compatible with all OS's\n",
    "img_dataset = ImageFolder(data_path/'train', transform=new_transforms)\n",
    "# Splitting dataset\n",
    "new_train_data, _,_ = torch.utils.data.random_split(img_dataset,\n",
    "                                                    [250, 100, 14280])\n",
    "\n",
    "# For reproducibility\n",
    "g_seed = torch.Generator()\n",
    "g_seed.manual_seed(SEED)\n",
    "\n",
    "# Creating train_loader and Val_loader\n",
    "new_train_loader = torch.utils.data.DataLoader(new_train_data,\n",
    "                                               batch_size=batch_size,\n",
    "                                               worker_init_fn=seed_worker,\n",
    "                                               generator=g_seed)"
   ]
  },
  {
   "cell_type": "code",
   "execution_count": null,
   "metadata": {
    "execution": {}
   },
   "outputs": [],
   "source": [
    "# Set the arguments\n",
    "args = {\n",
    "    'epochs': 250,\n",
    "    'lr': 1e-3,\n",
    "    'momentum': 0.99,\n",
    "    'device': DEVICE,\n",
    "}\n",
    "\n",
    "# Initialize the model\n",
    "set_seed(seed=SEED)\n",
    "model_aug = AnimalNet()\n",
    "\n",
    "# Train the model\n",
    "val_acc_dataaug, train_acc_dataaug, param_norm_dataaug, _ = main(args,\n",
    "                                                                 model_aug,\n",
    "                                                                 new_train_loader,\n",
    "                                                                 val_loader,\n",
    "                                                                 img_test_dataset)\n",
    "# Initialize the model\n",
    "set_seed(seed=SEED)\n",
    "model_pure = AnimalNet()\n",
    "\n",
    "val_acc_pure, train_acc_pure, param_norm_pure, _, = main(args,\n",
    "                                                         model_pure,\n",
    "                                                         train_loader,\n",
    "                                                         val_loader,\n",
    "                                                         img_test_dataset)\n",
    "\n",
    "\n",
    "# Train and Test accuracy plot\n",
    "plt.figure()\n",
    "plt.plot(val_acc_pure, label='Val Accuracy Pure',\n",
    "         c='red', ls='dashed')\n",
    "plt.plot(train_acc_pure, label='Train Accuracy Pure',\n",
    "         c='red', ls='solid')\n",
    "plt.plot(val_acc_dataaug, label='Val Accuracy data augment',\n",
    "         c='blue', ls='dashed')\n",
    "plt.plot(train_acc_dataaug, label='Train Accuracy data augment',\n",
    "         c='blue', ls='solid')\n",
    "plt.axhline(y=max(val_acc_pure), c='red', ls='dashed')\n",
    "plt.axhline(y=max(val_acc_dataaug), c='blue', ls='dashed')\n",
    "plt.title('Data Augmentation')\n",
    "plt.ylabel('Accuracy (%)')\n",
    "plt.xlabel('Epoch')\n",
    "plt.legend()\n",
    "plt.show()"
   ]
  },
  {
   "cell_type": "code",
   "execution_count": null,
   "metadata": {
    "execution": {}
   },
   "outputs": [],
   "source": [
    "# Plot together: without and with augmentation\n",
    "plt.figure()\n",
    "plt.plot([i.cpu().numpy().item() for i in param_norm_pure],\n",
    "         c='red', label='Without Augmentation')\n",
    "plt.plot([i.cpu().numpy().item() for i in param_norm_dataaug],\n",
    "         c='blue', label='With Augmentation')\n",
    "plt.title('Norm of parameters as a function of training epoch')\n",
    "plt.xlabel('Epoch')\n",
    "plt.ylabel('Norm of model parameters')\n",
    "plt.legend()\n",
    "plt.show()"
   ]
  },
  {
   "cell_type": "markdown",
   "metadata": {
    "execution": {}
   },
   "source": [
    "Can you think of more ways of augmenting the training data? (Think of other problems beyond object recognition.)"
   ]
  },
  {
   "cell_type": "code",
   "execution_count": null,
   "metadata": {
    "execution": {}
   },
   "outputs": [],
   "source": [
    "# to_remove explanation\n",
    "\n",
    "\"\"\"\n",
    "Augmentation is a technique to increase diversity of training data\n",
    "through random but realistic transformations.\n",
    "\"\"\";"
   ]
  },
  {
   "cell_type": "markdown",
   "metadata": {
    "execution": {}
   },
   "source": [
    "### Think! 3.1: Thought Question\n",
    "\n",
    "Why is it better to regularize an overparameterized ANN than to start with a smaller one? Think about the regularization methods you know.\n",
    "Each group should have a 10 min discussion."
   ]
  },
  {
   "cell_type": "code",
   "execution_count": null,
   "metadata": {
    "cellView": "form",
    "execution": {}
   },
   "outputs": [],
   "source": [
    "# @title Student Response\n",
    "from ipywidgets import widgets\n",
    "\n",
    "\n",
    "text=widgets.Textarea(\n",
    "   value='Type your answer here and click on `Submit!`',\n",
    "   placeholder='Type something',\n",
    "   description='',\n",
    "   disabled=False\n",
    ")\n",
    "\n",
    "button = widgets.Button(description=\"Submit!\")\n",
    "\n",
    "display(text,button)\n",
    "\n",
    "def on_button_clicked(b):\n",
    "   atform.add_answer('q1', text.value)\n",
    "   print(\"Submission successful!\")\n",
    "\n",
    "\n",
    "button.on_click(on_button_clicked)"
   ]
  },
  {
   "cell_type": "code",
   "execution_count": null,
   "metadata": {
    "execution": {}
   },
   "outputs": [],
   "source": [
    "# to_remove explanation\n",
    "\n",
    "\"\"\"\n",
    "Regularization works by penalizing model complexity. If the initial model is not\n",
    "complex enough to correctly describe the data then no amount of regularization\n",
    "will help as the model needs to get more complex to improve, not less.\n",
    "\"\"\";"
   ]
  },
  {
   "cell_type": "markdown",
   "metadata": {
    "execution": {}
   },
   "source": [
    "---\n",
    "# Section 4: Stochastic Gradient Descent\n",
    "\n",
    "*Time estimate: ~20 mins*"
   ]
  },
  {
   "cell_type": "code",
   "execution_count": null,
   "metadata": {
    "cellView": "form",
    "execution": {}
   },
   "outputs": [],
   "source": [
    "# @title Video 4: SGD\n",
    "from ipywidgets import widgets\n",
    "\n",
    "out2 = widgets.Output()\n",
    "with out2:\n",
    "  from IPython.display import IFrame\n",
    "  class BiliVideo(IFrame):\n",
    "    def __init__(self, id, page=1, width=400, height=300, **kwargs):\n",
    "      self.id=id\n",
    "      src = \"https://player.bilibili.com/player.html?bvid={0}&page={1}\".format(id, page)\n",
    "      super(BiliVideo, self).__init__(src, width, height, **kwargs)\n",
    "\n",
    "  video = BiliVideo(id=f\"BV1nM4y1K7wP\", width=854, height=480, fs=1)\n",
    "  print(\"Video available at https://www.bilibili.com/video/{0}\".format(video.id))\n",
    "  display(video)\n",
    "\n",
    "out1 = widgets.Output()\n",
    "with out1:\n",
    "  from IPython.display import YouTubeVideo\n",
    "  video = YouTubeVideo(id=f\"rjzlFvJhNqE\", width=854, height=480, fs=1, rel=0)\n",
    "  print(\"Video available at https://youtube.com/watch?v=\" + video.id)\n",
    "  display(video)\n",
    "\n",
    "out = widgets.Tab([out1, out2])\n",
    "out.set_title(0, 'Youtube')\n",
    "out.set_title(1, 'Bilibili')\n",
    "\n",
    "# add event to airtable\n",
    "atform.add_event('Video 4: SGD')\n",
    "\n",
    "display(out)"
   ]
  },
  {
   "cell_type": "markdown",
   "metadata": {
    "execution": {}
   },
   "source": [
    "## Section 4.1: Learning Rate\n",
    "\n",
    "In this section, we will see how the learning rate can act as a regularizer while training a neural network. In summary:\n",
    "\n",
    "* Smaller learning rates regularize less and slowly converge to deep minima. \n",
    "* Larger learning rates regularize more by missing local minima and converging to broader, flatter minima, which often generalize better.\n",
    "\n",
    "But beware, a very large learning rate may result in overshooting or finding a bad local minimum.\n",
    "\n",
    "In the block below, we will train the `AnimalNet` model with different learning rates and see how that affects the regularization."
   ]
  },
  {
   "cell_type": "code",
   "execution_count": null,
   "metadata": {
    "cellView": "form",
    "execution": {}
   },
   "outputs": [],
   "source": [
    "# @markdown #### Generating Data Loaders\n",
    "\n",
    "# For reproducibility\n",
    "g_seed = torch.Generator()\n",
    "g_seed.manual_seed(SEED)\n",
    "\n",
    "batch_size = 128\n",
    "train_transform = transforms.Compose([\n",
    "     transforms.ToTensor(),\n",
    "     transforms.Normalize((0.5, 0.5, 0.5), (0.5, 0.5, 0.5))\n",
    "     ])\n",
    "\n",
    "data_path = pathlib.Path('.')/'afhq' # Using pathlib to be compatible with all OS's\n",
    "img_dataset = ImageFolder(data_path/'train', transform=train_transform)\n",
    "img_train_data, img_val_data, = torch.utils.data.random_split(img_dataset, [11700,2930])\n",
    "\n",
    "full_train_loader = torch.utils.data.DataLoader(img_train_data,\n",
    "                                                batch_size=batch_size,\n",
    "                                                num_workers=2,\n",
    "                                                worker_init_fn=seed_worker,\n",
    "                                                generator=g_seed)\n",
    "full_val_loader = torch.utils.data.DataLoader(img_val_data,\n",
    "                                              batch_size=1000,\n",
    "                                              num_workers=2,\n",
    "                                              worker_init_fn=seed_worker,\n",
    "                                              generator=g_seed)\n",
    "\n",
    "test_transform = transforms.Compose([\n",
    "     transforms.ToTensor(),\n",
    "     transforms.Normalize((0.5, 0.5, 0.5), (0.5, 0.5, 0.5))\n",
    "     ])\n",
    "img_test_dataset = ImageFolder(data_path/'val', transform=test_transform)\n",
    "# With dataloaders: img_test_loader = DataLoader(img_test_dataset, batch_size=batch_size,shuffle=False, num_workers=1)\n",
    "classes = ('cat', 'dog', 'wild')"
   ]
  },
  {
   "cell_type": "code",
   "execution_count": null,
   "metadata": {
    "execution": {}
   },
   "outputs": [],
   "source": [
    "# Set the arguments\n",
    "args = {\n",
    "    'test_batch_size': 1000,\n",
    "    'epochs': 20,\n",
    "    'batch_size': 32,\n",
    "    'momentum': 0.99,\n",
    "    'device': DEVICE\n",
    "}\n",
    "\n",
    "learning_rates = [5e-4, 1e-3, 5e-3]\n",
    "acc_dict = {}\n",
    "\n",
    "for i, lr in enumerate(learning_rates):\n",
    "  # Initialize the model\n",
    "  set_seed(seed=SEED)\n",
    "  model = AnimalNet()\n",
    "  # Learning rate\n",
    "  args['lr'] = lr\n",
    "  # Train the model\n",
    "  val_acc, train_acc, param_norm, _ = main(args,\n",
    "                                           model,\n",
    "                                           train_loader,\n",
    "                                           val_loader,\n",
    "                                           img_test_dataset)\n",
    "  # Store the outputs\n",
    "  acc_dict[f'val_{i}'] = val_acc\n",
    "  acc_dict[f'train_{i}'] = train_acc\n",
    "  acc_dict[f'param_norm_{i}'] = param_norm"
   ]
  },
  {
   "cell_type": "code",
   "execution_count": null,
   "metadata": {
    "cellView": "form",
    "execution": {}
   },
   "outputs": [],
   "source": [
    "# @markdown Plot Train and Validation accuracy (Run me)\n",
    "plt.figure()\n",
    "for i, lr in enumerate(learning_rates):\n",
    "  plt.plot(acc_dict[f'val_{i}'], linestyle='dashed',\n",
    "          label=f'lr={lr:0.1e} - validation')\n",
    "  plt.plot(acc_dict[f'train_{i}'], label=f'{lr:0.1e} - train')\n",
    "\n",
    "  print(f\"Maximum Test Accuracy obtained with lr={lr:0.1e}: {max(acc_dict[f'val_{i}'])}\")\n",
    "\n",
    "plt.title('Optimal Learning Rate')\n",
    "plt.ylabel('Accuracy (%)')\n",
    "plt.xlabel('Epoch')\n",
    "plt.legend()\n",
    "plt.show()"
   ]
  },
  {
   "cell_type": "code",
   "execution_count": null,
   "metadata": {
    "cellView": "form",
    "execution": {}
   },
   "outputs": [],
   "source": [
    "# @markdown Plot parametric norms (Run me)\n",
    "plt.figure()\n",
    "for i, lr in enumerate(learning_rates):\n",
    "  plt.plot([i.cpu().numpy().item() for i in acc_dict[f'param_norm_{i}']],\n",
    "           label=f'lr={lr:0.2e}')\n",
    "plt.legend()\n",
    "plt.xlabel('Epoch')\n",
    "plt.ylabel('Parameter norms')\n",
    "plt.show()"
   ]
  },
  {
   "cell_type": "markdown",
   "metadata": {
    "execution": {}
   },
   "source": [
    "In the model above, we observe something different from what we expected. Why do you think this is happening?"
   ]
  },
  {
   "cell_type": "markdown",
   "metadata": {
    "execution": {}
   },
   "source": [
    "---\n",
    "# Section 5: Hyperparameter Tuning\n",
    "\n",
    "*Time estimate: ~5 mins*\n"
   ]
  },
  {
   "cell_type": "code",
   "execution_count": null,
   "metadata": {
    "cellView": "form",
    "execution": {}
   },
   "outputs": [],
   "source": [
    "# @title Video 5: Hyperparameter tuning\n",
    "from ipywidgets import widgets\n",
    "\n",
    "out2 = widgets.Output()\n",
    "with out2:\n",
    "  from IPython.display import IFrame\n",
    "  class BiliVideo(IFrame):\n",
    "    def __init__(self, id, page=1, width=400, height=300, **kwargs):\n",
    "      self.id=id\n",
    "      src = \"https://player.bilibili.com/player.html?bvid={0}&page={1}\".format(id, page)\n",
    "      super(BiliVideo, self).__init__(src, width, height, **kwargs)\n",
    "\n",
    "  video = BiliVideo(id=f\"BV1E44y127Sn\", width=854, height=480, fs=1)\n",
    "  print(\"Video available at https://www.bilibili.com/video/{0}\".format(video.id))\n",
    "  display(video)\n",
    "\n",
    "out1 = widgets.Output()\n",
    "with out1:\n",
    "  from IPython.display import YouTubeVideo\n",
    "  video = YouTubeVideo(id=f\"HgkiKRYc-3A\", width=854, height=480, fs=1, rel=0)\n",
    "  print(\"Video available at https://youtube.com/watch?v=\" + video.id)\n",
    "  display(video)\n",
    "\n",
    "out = widgets.Tab([out1, out2])\n",
    "out.set_title(0, 'Youtube')\n",
    "out.set_title(1, 'Bilibili')\n",
    "\n",
    "# Add event to airtable\n",
    "atform.add_event('Video 5: Hyperparameter tuning')\n",
    "\n",
    "display(out)"
   ]
  },
  {
   "cell_type": "markdown",
   "metadata": {
    "execution": {}
   },
   "source": [
    "Hyperparameter tuning is often tricky and time-consuming, and it is a vital part of training any Deep Learning model to give good generalization. There are a few techniques that we can use to guide us during the search. \n",
    "\n",
    "* **Grid Search**: Try all possible combinations of hyperparameters\n",
    "* **Random Search**: Randomly try different combinations of hyperparameters\n",
    "* **Coordinate-wise Gradient Descent**: Start at one set of hyperparameters and try changing one at a time, accept any changes that reduce your validation error\n",
    "* **Bayesian Optimization / Auto ML**:  Start from a set of hyperparameters that have worked well on a similar problem, and then do some sort of local exploration (e.g., gradient descent) from there.\n",
    "\n",
    "There are many choices, like what range to explore over, which parameter to optimize first, etc. Some hyperparameters don’t matter much (people use a dropout of either 0.5 or 0.2, but not much else). Others can matter a lot more (e.g., size and depth of the neural net). The key is to see what worked on similar problems.\n",
    "\n",
    "One can automate the process of tuning the network architecture using the so called *Neural Architecture Search (NAS)*. NAS designs new architectures using a few building blocks (Linear, Convolutional, Convolution Layers, etc.) and optimizes the design based on performance using a wide range of techniques such as Grid Search, Reinforcement Learning, Gradient Descent, Evolutionary Algorithms, etc. This obviously requires very high computing power. Read this [article](https://lilianweng.github.io/lil-log/2020/08/06/neural-architecture-search.html) to learn more about NAS."
   ]
  },
  {
   "cell_type": "markdown",
   "metadata": {
    "execution": {}
   },
   "source": [
    "## Think! 5: Overview of regularization techniques\n",
    "\n",
    "Which regularization technique today do you think had the most significant effect on the network? Why might do you think so? Can you apply all of the regularization methods on the same network?"
   ]
  },
  {
   "cell_type": "code",
   "execution_count": null,
   "metadata": {
    "cellView": "form",
    "execution": {}
   },
   "outputs": [],
   "source": [
    "# @title Student Response\n",
    "from ipywidgets import widgets\n",
    "\n",
    "\n",
    "text=widgets.Textarea(\n",
    "   value='Type your answer here and click on `Submit!`',\n",
    "   placeholder='Type something',\n",
    "   description='',\n",
    "   disabled=False\n",
    ")\n",
    "\n",
    "button = widgets.Button(description=\"Submit!\")\n",
    "\n",
    "display(text,button)\n",
    "\n",
    "def on_button_clicked(b):\n",
    "   atform.add_answer('q2', text.value)\n",
    "   print(\"Submission successful!\")\n",
    "\n",
    "\n",
    "button.on_click(on_button_clicked)"
   ]
  },
  {
   "cell_type": "code",
   "execution_count": null,
   "metadata": {
    "execution": {}
   },
   "outputs": [],
   "source": [
    "# to_remove explanation\n",
    "\n",
    "\"\"\"\n",
    "Theoretically yes, we can apply all of the regularization methods on the same network.\n",
    "\"\"\";"
   ]
  },
  {
   "cell_type": "markdown",
   "metadata": {
    "execution": {}
   },
   "source": [
    "---\n",
    "# Summary\n",
    "\n",
    "Congratulations! You have finished the first week of NMA-DL! \n",
    "\n",
    "In this tutorial, you learned more regularization techniques, i.e., L1 and L2 regularization, Dropout, and Data Augmentation. Finally, you have seen that the learning rate of SGD can act as a regularizer. An interesting paper can be found [here](https://arxiv.org/abs/1611.03530). \n",
    "\n",
    "Continue to the Bonus material on *Adversarial Attacks* if you have time left!"
   ]
  },
  {
   "cell_type": "code",
   "execution_count": null,
   "metadata": {
    "cellView": "form",
    "execution": {}
   },
   "outputs": [],
   "source": [
    "# @title Airtable Submission Link\n",
    "from IPython import display as IPydisplay\n",
    "IPydisplay.HTML(\n",
    "   f\"\"\"\n",
    " <div>\n",
    "   <a href= \"{atform.url()}\" target=\"_blank\">\n",
    "   <img src=\"https://github.com/NeuromatchAcademy/course-content-dl/blob/main/tutorials/static/SurveyButton.png?raw=1\"\n",
    " alt=\"button link end of day Survey\" style=\"width:410px\"></a>\n",
    "   </div>\"\"\" )"
   ]
  },
  {
   "cell_type": "markdown",
   "metadata": {
    "execution": {}
   },
   "source": [
    "---\n",
    "# Bonus: Adversarial  Attacks\n",
    "\n",
    "*Time estimate: ~15 mins*"
   ]
  },
  {
   "cell_type": "code",
   "execution_count": null,
   "metadata": {
    "cellView": "form",
    "execution": {}
   },
   "outputs": [],
   "source": [
    "# @title Video 6: Adversarial Attacks\n",
    "from ipywidgets import widgets\n",
    "\n",
    "out2 = widgets.Output()\n",
    "with out2:\n",
    "  from IPython.display import IFrame\n",
    "  class BiliVideo(IFrame):\n",
    "    def __init__(self, id, page=1, width=400, height=300, **kwargs):\n",
    "      self.id=id\n",
    "      src = \"https://player.bilibili.com/player.html?bvid={0}&page={1}\".format(id, page)\n",
    "      super(BiliVideo, self).__init__(src, width, height, **kwargs)\n",
    "\n",
    "  video = BiliVideo(id=f\"BV19o4y1X74u\", width=854, height=480, fs=1)\n",
    "  print(\"Video available at https://www.bilibili.com/video/{0}\".format(video.id))\n",
    "  display(video)\n",
    "\n",
    "out1 = widgets.Output()\n",
    "with out1:\n",
    "  from IPython.display import YouTubeVideo\n",
    "  video = YouTubeVideo(id=f\"LzPPoiKi5jE\", width=854, height=480, fs=1, rel=0)\n",
    "  print(\"Video available at https://youtube.com/watch?v=\" + video.id)\n",
    "  display(video)\n",
    "\n",
    "out = widgets.Tab([out1, out2])\n",
    "out.set_title(0, 'Youtube')\n",
    "out.set_title(1, 'Bilibili')\n",
    "\n",
    "# Add event to airtable\n",
    "atform.add_event('Video 6: Adversarial Attacks')\n",
    "\n",
    "display(out)"
   ]
  },
  {
   "cell_type": "markdown",
   "metadata": {
    "execution": {}
   },
   "source": [
    "Designing perturbations to the input data to trick a machine learning model is called an \"adversarial attack\". These attacks are an inevitable consequence of learning in high dimensional space using complex decision boundaries. Depending on the application, these attacks can be very dangerous.\n",
    "\n",
    "<br>\n",
    "\n",
    "<img src=\"https://raw.githubusercontent.com/NeuromatchAcademy/course-content-dl/main/tutorials/static/AdversarialAttacks_w1d5t2.png\">\n",
    "\n",
    "<br>\n",
    "\n",
    "Hence, we need to build models which can defend against such attacks. One possible way to do it is by regularizing the networks, which smooths the decision boundaries. A few ways of building models robust to such attacks are:\n",
    "* [Defensive Distillation](https://deepai.org/machine-learning-glossary-and-terms/defensive-distillation): Models trained via distillation are less prone to such attacks as they are trained on soft labels as there is an element of randomness in the training process.\n",
    "* [Feature Squeezing](https://evademl.org/squeezing/): Identifies adversarial attacks for online classifiers whose model is being used by comparing the model's prediction before and after squeezing the input. \n",
    "* [SGD](https://arxiv.org/abs/1706.06083): You can also pick weight to minimize what the adversary is trying to maximize via SGD.\n",
    "\n",
    "<br>\n",
    "\n",
    "Read more about adversarial attacks [here](https://openai.com/blog/adversarial-example-research/)."
   ]
  }
 ],
 "metadata": {
  "accelerator": "GPU",
  "colab": {
   "collapsed_sections": [],
   "include_colab_link": true,
   "name": "W2D1_Tutorial2",
   "provenance": [],
   "toc_visible": true
  },
  "kernel": {
   "display_name": "Python 3",
   "language": "python",
   "name": "python3"
  },
  "kernelspec": {
   "display_name": "Python 3.8.13 ('th1p12')",
   "language": "python",
   "name": "python3"
  },
  "language_info": {
   "codemirror_mode": {
    "name": "ipython",
    "version": 3
   },
   "file_extension": ".py",
   "mimetype": "text/x-python",
   "name": "python",
   "nbconvert_exporter": "python",
   "pygments_lexer": "ipython3",
   "version": "3.8.13"
  },
  "vscode": {
   "interpreter": {
    "hash": "540ee3e445d1da392d2b8a7d647dcbc2bd268a0d669d2281aeea3f4a5da62e9a"
   }
  }
 },
 "nbformat": 4,
 "nbformat_minor": 0
}
