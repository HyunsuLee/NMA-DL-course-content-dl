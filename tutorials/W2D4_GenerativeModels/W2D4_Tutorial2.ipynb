{
 "cells": [
  {
   "cell_type": "markdown",
   "metadata": {
    "colab_type": "text",
    "execution": {},
    "id": "view-in-github"
   },
   "source": [
    "<a href=\"https://colab.research.google.com/github/NeuromatchAcademy/course-content-dl/blob/main/tutorials/W2D4_GenerativeModels/W2D4_Tutorial2.ipynb\" target=\"_parent\"><img src=\"https://colab.research.google.com/assets/colab-badge.svg\" alt=\"Open In Colab\"/></a> &nbsp; <a href=\"https://kaggle.com/kernels/welcome?src=https://raw.githubusercontent.com/NeuromatchAcademy/course-content-dl/main/tutorials/W2D4_GenerativeModels/W2D4_Tutorial2.ipynb\" target=\"_parent\"><img src=\"https://kaggle.com/static/images/open-in-kaggle.svg\" alt=\"Open in Kaggle\"/></a>"
   ]
  },
  {
   "cell_type": "markdown",
   "metadata": {
    "execution": {}
   },
   "source": [
    "# Tutorial 2: Introduction to GANs\n",
    "\n",
    "**Week 2, Day 4: Generative Models**\n",
    "\n",
    "**By Neuromatch Academy**\n",
    "\n",
    "__Content creators:__ Kai Xu, Seungwook Han, Akash Srivastava\n",
    "\n",
    "__Content reviewers:__ Polina Turishcheva, Melvin Selim Atay, Hadi Vafaei, Deepak Raya, Charles J Edelson, Kelson Shilling-Scrivo\n",
    "\n",
    "__Content editors:__ Charles J Edelson, Kelson Shilling-Scrivo, Spiros Chavlis\n",
    "\n",
    "__Production editors:__ Arush Tagade, Gagana B, Spiros Chavlis"
   ]
  },
  {
   "cell_type": "markdown",
   "metadata": {
    "execution": {}
   },
   "source": [
    "<p align='center'><img src='https://github.com/NeuromatchAcademy/widgets/blob/master/sponsors.png?raw=True'/></p>"
   ]
  },
  {
   "cell_type": "markdown",
   "metadata": {
    "execution": {}
   },
   "source": [
    "---\n",
    "\n",
    "## Tutorial Objectives\n",
    "\n",
    "The goal of this tutorial is two-fold; first you will be introduced to GANs training, and you will be able to understand how GANs are connected to other generative models that we have been before. \n",
    "\n",
    "By the end of the first part of this tutorial you will be able to:\n",
    "- Understand, at a high level, how GANs are implemented.\n",
    "- Understand the training dynamics of GANs. \n",
    "- Know about a few failure modes of GAN training.\n",
    "- Understand density ratio estimation using a binary classifier\n",
    "- Understand the connection between GANs and other generative models.\n",
    "- Implement a GAN."
   ]
  },
  {
   "cell_type": "code",
   "execution_count": 6,
   "metadata": {
    "cellView": "form",
    "execution": {}
   },
   "outputs": [
    {
     "data": {
      "text/html": [
       "\n",
       "        <iframe\n",
       "            width=\"854\"\n",
       "            height=\"480\"\n",
       "            src=\"https://mfr.ca-1.osf.io/render?url=https://osf.io/dftym/?direct%26mode=render%26action=download%26mode=render\"\n",
       "            frameborder=\"0\"\n",
       "            allowfullscreen\n",
       "            \n",
       "        ></iframe>\n",
       "        "
      ],
      "text/plain": [
       "<IPython.lib.display.IFrame at 0x7f29d377c400>"
      ]
     },
     "execution_count": 6,
     "metadata": {},
     "output_type": "execute_result"
    }
   ],
   "source": [
    "# @title Tutorial slides\n",
    "\n",
    "from IPython.display import IFrame\n",
    "IFrame(src=f\"https://mfr.ca-1.osf.io/render?url=https://osf.io/dftym/?direct%26mode=render%26action=download%26mode=render\", width=854, height=480)"
   ]
  },
  {
   "cell_type": "markdown",
   "metadata": {
    "execution": {}
   },
   "source": [
    "These are the slides for the videos in this tutorial. If you want to locally download the slides, click [here](https://osf.io/dftym/download)."
   ]
  },
  {
   "cell_type": "markdown",
   "metadata": {
    "execution": {}
   },
   "source": [
    "---\n",
    "# Setup"
   ]
  },
  {
   "cell_type": "code",
   "execution_count": 7,
   "metadata": {
    "cellView": "form",
    "execution": {}
   },
   "outputs": [],
   "source": [
    "# @title Install dependencies\n",
    "!pip install git+https://github.com/NeuromatchAcademy/evaltools --quiet\n",
    "\n",
    "from evaltools.airtable import AirtableForm\n",
    "atform = AirtableForm('appn7VdPRseSoMXEG', 'W2D4_T2','https://portal.neuromatchacademy.org/api/redirect/to/9c55f6cb-cdf9-4429-ac1c-ec44fe64c303')"
   ]
  },
  {
   "cell_type": "code",
   "execution_count": 8,
   "metadata": {
    "execution": {}
   },
   "outputs": [],
   "source": [
    "# Imports\n",
    "import torch\n",
    "import numpy as np\n",
    "import matplotlib.pyplot as plt"
   ]
  },
  {
   "cell_type": "code",
   "execution_count": 9,
   "metadata": {
    "cellView": "form",
    "execution": {}
   },
   "outputs": [],
   "source": [
    "# @title Figure settings\n",
    "import ipywidgets as widgets       # Interactive display\n",
    "%config InlineBackend.figure_format = 'retina'\n",
    "plt.style.use(\"https://raw.githubusercontent.com/NeuromatchAcademy/content-creation/main/nma.mplstyle\")\n",
    "plt.rc('axes', unicode_minus=False)"
   ]
  },
  {
   "cell_type": "code",
   "execution_count": 10,
   "metadata": {
    "cellView": "form",
    "execution": {}
   },
   "outputs": [],
   "source": [
    "# @title Plotting functions\n",
    "\n",
    "ld_true = [-7.0066e-01, -2.6368e-01, -2.4250e+00, -2.0247e+00, -1.1795e+00,\n",
    "        -4.5558e-01, -7.1316e-01, -1.0932e-01, -7.8608e-01, -4.5838e-01,\n",
    "        -1.0530e+00, -9.1201e-01, -3.8020e+00, -1.7787e+00, -1.2246e+00,\n",
    "        -6.5677e-01, -3.6001e-01, -2.2313e-01, -1.8262e+00, -1.2649e+00,\n",
    "        -3.8330e-01, -8.8619e-02, -9.2357e-01, -1.3450e-01, -8.6891e-01,\n",
    "        -5.9257e-01, -4.8415e-02, -3.3197e+00, -1.6862e+00, -9.8506e-01,\n",
    "        -1.1871e+00, -7.0422e-02, -1.7378e+00, -1.3099e+00, -1.8926e+00,\n",
    "        -3.4508e+00, -1.5696e+00, -7.2787e-02, -3.2420e-01, -2.9795e-01,\n",
    "        -6.4189e-01, -1.4120e+00, -5.3684e-01, -3.4066e+00, -1.9753e+00,\n",
    "        -1.4178e+00, -2.0399e-01, -2.3173e-01, -1.2792e+00, -7.2990e-01,\n",
    "        -1.9872e-01, -2.9378e-03, -3.5890e-01, -5.6643e-01, -1.8003e-01,\n",
    "        -1.5818e+00, -5.2227e-01, -2.1862e+00, -1.8743e+00, -1.4200e+00,\n",
    "        -3.1988e-01, -3.5513e-01, -1.5905e+00, -4.2916e-01, -2.5556e-01,\n",
    "        -8.2807e-01, -6.5568e-01, -4.8475e-01, -2.1049e-01, -2.0104e-02,\n",
    "        -2.1655e+00, -1.1496e+00, -3.6168e-01, -8.9624e-02, -6.7098e-02,\n",
    "        -6.0623e-02, -5.1165e-01, -2.7302e+00, -6.0514e-01, -1.6756e+00,\n",
    "        -3.3807e+00, -5.7368e-02, -1.2763e-01, -6.6959e+00, -5.2157e-01,\n",
    "        -8.7762e-01, -8.7295e-01, -1.3052e+00, -3.6777e-01, -1.5904e+00,\n",
    "        -3.8083e-01, -2.8388e-01, -1.5323e-01, -3.7549e-01, -5.2722e+00,\n",
    "        -1.7393e+00, -2.8814e-01, -5.0310e-01, -2.2077e+00, -1.5507e+00,\n",
    "        -6.8569e-01, -1.4620e+00, -9.2639e-02, -1.4160e-01, -3.6734e-01,\n",
    "        -1.0053e+00, -6.7353e-01, -2.2676e+00, -6.0812e-01, -1.0005e+00,\n",
    "        -4.2908e-01, -5.1369e-01, -2.2579e-02, -1.8496e-01, -3.4798e-01,\n",
    "        -7.3089e-01, -1.1962e+00, -1.6095e+00, -1.7558e-01, -3.3166e-01,\n",
    "        -1.1445e+00, -2.4674e+00, -5.0600e-01, -2.0727e+00, -5.4371e-01,\n",
    "        -8.0499e-01, -3.0521e+00, -3.6835e-02, -2.0485e-01, -4.6747e-01,\n",
    "        -3.6399e-01, -2.6883e+00, -1.9348e-01, -3.1448e-01, -1.6332e-01,\n",
    "        -3.2233e-02, -2.3336e-01, -2.6564e+00, -1.2841e+00, -1.3561e+00,\n",
    "        -7.4717e-01, -2.7926e-01, -8.7849e-01, -3.3715e-02, -1.4933e-01,\n",
    "        -2.7738e-01, -1.6899e+00, -1.5758e+00, -3.2608e-01, -6.5770e-01,\n",
    "        -1.7136e+00, -5.8316e+00, -1.1988e+00, -8.3828e-01, -1.8033e+00,\n",
    "        -2.3017e-01, -8.9936e-01, -1.1917e-01, -1.6659e-01, -2.7669e-01,\n",
    "        -1.2955e+00, -1.2076e+00, -2.2793e-01, -1.0528e+00, -1.4894e+00,\n",
    "        -5.7428e-01, -7.3208e-01, -9.5673e-01, -1.6617e+00, -3.9169e+00,\n",
    "        -1.2182e-01, -3.8092e-01, -1.1924e+00, -2.4566e+00, -2.7350e+00,\n",
    "        -2.8332e+00, -9.1506e-01, -6.7432e-02, -7.8965e-01, -2.0727e-01,\n",
    "        -3.4615e-02, -2.8868e+00, -2.1218e+00, -1.2368e-03, -9.0038e-01,\n",
    "        -5.3746e-01, -5.4080e-01, -3.1625e-01, -1.1786e+00, -2.2797e-01,\n",
    "        -1.1498e+00, -1.3978e+00, -1.9515e+00, -1.1614e+00, -5.1456e-03,\n",
    "        -1.9316e-01, -1.3849e+00, -9.2799e-01, -1.1649e-01, -2.3837e-01]\n",
    "\n",
    "\n",
    "def plotting_ld(ld, true=ld_true):\n",
    "  \"\"\"\n",
    "  Helper function to plot discriminator loss from user\n",
    "  implementation and oracle implementation\n",
    "\n",
    "  Args:\n",
    "    ld: list\n",
    "      Log of loss from user implementation\n",
    "    true: list\n",
    "      Log of loss from oracle implementation\n",
    "\n",
    "  Returns:\n",
    "    Nothing\n",
    "  \"\"\"\n",
    "  fig, ax = plt.subplots(figsize=(7, 7))\n",
    "  ax.plot([-1, 6], [-1, 6], label=\"Ground Truth\")\n",
    "  ax.scatter(-1*np.array(true), ld, marker=\"x\",\n",
    "             label=\"Your implementation\")\n",
    "  ax.set_xlabel(\"Loss from oracle implementation\")\n",
    "  ax.set_ylabel(\"Loss from your implementation\")\n",
    "  ax.legend()\n",
    "  ax.set_title(\"Discriminator Loss\")\n",
    "\n",
    "\n",
    "lg_true = [-7.0066e-01, -2.6368e-01, -2.4250e+00, -2.0247e+00, -1.1795e+00,\n",
    "        -4.5558e-01, -7.1316e-01, -1.0932e-01, -7.8608e-01, -4.5838e-01,\n",
    "        -1.0530e+00, -9.1201e-01, -3.8020e+00, -1.7787e+00, -1.2246e+00,\n",
    "        -6.5677e-01, -3.6001e-01, -2.2313e-01, -1.8262e+00, -1.2649e+00,\n",
    "        -3.8330e-01, -8.8619e-02, -9.2357e-01, -1.3450e-01, -8.6891e-01,\n",
    "        -5.9257e-01, -4.8415e-02, -3.3197e+00, -1.6862e+00, -9.8506e-01,\n",
    "        -1.1871e+00, -7.0422e-02, -1.7378e+00, -1.3099e+00, -1.8926e+00,\n",
    "        -3.4508e+00, -1.5696e+00, -7.2787e-02, -3.2420e-01, -2.9795e-01,\n",
    "        -6.4189e-01, -1.4120e+00, -5.3684e-01, -3.4066e+00, -1.9753e+00,\n",
    "        -1.4178e+00, -2.0399e-01, -2.3173e-01, -1.2792e+00, -7.2990e-01,\n",
    "        -1.9872e-01, -2.9378e-03, -3.5890e-01, -5.6643e-01, -1.8003e-01,\n",
    "        -1.5818e+00, -5.2227e-01, -2.1862e+00, -1.8743e+00, -1.4200e+00,\n",
    "        -3.1988e-01, -3.5513e-01, -1.5905e+00, -4.2916e-01, -2.5556e-01,\n",
    "        -8.2807e-01, -6.5568e-01, -4.8475e-01, -2.1049e-01, -2.0104e-02,\n",
    "        -2.1655e+00, -1.1496e+00, -3.6168e-01, -8.9624e-02, -6.7098e-02,\n",
    "        -6.0623e-02, -5.1165e-01, -2.7302e+00, -6.0514e-01, -1.6756e+00,\n",
    "        -3.3807e+00, -5.7368e-02, -1.2763e-01, -6.6959e+00, -5.2157e-01,\n",
    "        -8.7762e-01, -8.7295e-01, -1.3052e+00, -3.6777e-01, -1.5904e+00,\n",
    "        -3.8083e-01, -2.8388e-01, -1.5323e-01, -3.7549e-01, -5.2722e+00,\n",
    "        -1.7393e+00, -2.8814e-01, -5.0310e-01, -2.2077e+00, -1.5507e+00]\n",
    "\n",
    "\n",
    "def plotting_lg(lg, true=lg_true):\n",
    "  \"\"\"\n",
    "  Helper function to plot generator loss from user\n",
    "  implementation and oracle implementation\n",
    "\n",
    "  Args:\n",
    "    ld: list\n",
    "      Log of loss from user implementation\n",
    "    true: list\n",
    "      Log of loss from oracle implementation\n",
    "\n",
    "  Returns:\n",
    "    Nothing\n",
    "  \"\"\"\n",
    "  fig, ax = plt.subplots(figsize=(7, 7))\n",
    "  ax.plot([-1, 6], [-1, 6], label=\"Ground Truth\")\n",
    "  ax.scatter(-1*np.array(true), lg, marker=\"x\",\n",
    "             label=\"Your implementation\")\n",
    "  ax.set_xlabel(\"Loss from oracle implementation\")\n",
    "  ax.set_ylabel(\"Loss from your implementation\")\n",
    "  ax.legend()\n",
    "  ax.set_title(\"Generator loss\")"
   ]
  },
  {
   "cell_type": "code",
   "execution_count": 11,
   "metadata": {
    "cellView": "form",
    "execution": {}
   },
   "outputs": [],
   "source": [
    "# @title Set random seed\n",
    "\n",
    "# @markdown Executing `set_seed(seed=seed)` you are setting the seed\n",
    "\n",
    "# For DL its critical to set the random seed so that students can have a\n",
    "# baseline to compare their results to expected results.\n",
    "# Read more here: https://pytorch.org/docs/stable/notes/randomness.html\n",
    "\n",
    "# Call `set_seed` function in the exercises to ensure reproducibility.\n",
    "import random\n",
    "import torch\n",
    "\n",
    "def set_seed(seed=None, seed_torch=True):\n",
    "  \"\"\"\n",
    "  Function that controls randomness. NumPy and random modules must be imported.\n",
    "\n",
    "  Args:\n",
    "    seed : Integer\n",
    "      A non-negative integer that defines the random state. Default is `None`.\n",
    "    seed_torch : Boolean\n",
    "      If `True` sets the random seed for pytorch tensors, so pytorch module\n",
    "      must be imported. Default is `True`.\n",
    "\n",
    "  Returns:\n",
    "    Nothing.\n",
    "  \"\"\"\n",
    "  if seed is None:\n",
    "    seed = np.random.choice(2 ** 32)\n",
    "  random.seed(seed)\n",
    "  np.random.seed(seed)\n",
    "  if seed_torch:\n",
    "    torch.manual_seed(seed)\n",
    "    torch.cuda.manual_seed_all(seed)\n",
    "    torch.cuda.manual_seed(seed)\n",
    "    torch.backends.cudnn.benchmark = False\n",
    "    torch.backends.cudnn.deterministic = True\n",
    "\n",
    "  print(f'Random seed {seed} has been set.')\n",
    "\n",
    "\n",
    "# In case that `DataLoader` is used\n",
    "def seed_worker(worker_id):\n",
    "  \"\"\"\n",
    "  DataLoader will reseed workers following randomness in\n",
    "  multi-process data loading algorithm.\n",
    "\n",
    "  Args:\n",
    "    worker_id: integer\n",
    "      ID of subprocess to seed. 0 means that\n",
    "      the data will be loaded in the main process\n",
    "      Refer: https://pytorch.org/docs/stable/data.html#data-loading-randomness for more details\n",
    "\n",
    "  Returns:\n",
    "    Nothing\n",
    "  \"\"\"\n",
    "  worker_seed = torch.initial_seed() % 2**32\n",
    "  np.random.seed(worker_seed)\n",
    "  random.seed(worker_seed)"
   ]
  },
  {
   "cell_type": "code",
   "execution_count": 12,
   "metadata": {
    "cellView": "form",
    "execution": {}
   },
   "outputs": [],
   "source": [
    "# @title Set device (GPU or CPU). Execute `set_device()`\n",
    "# especially if torch modules used.\n",
    "\n",
    "# Inform the user if the notebook uses GPU or CPU.\n",
    "\n",
    "def set_device():\n",
    "  \"\"\"\n",
    "  Set the device. CUDA if available, CPU otherwise\n",
    "\n",
    "  Args:\n",
    "    None\n",
    "\n",
    "  Returns:\n",
    "    Nothing\n",
    "  \"\"\"\n",
    "  device = \"cuda\" if torch.cuda.is_available() else \"cpu\"\n",
    "  if device != \"cuda\":\n",
    "    print(\"WARNING: For this notebook to perform best, \"\n",
    "        \"if possible, in the menu under `Runtime` -> \"\n",
    "        \"`Change runtime type.`  select `GPU` \")\n",
    "  else:\n",
    "    print(\"GPU is enabled in this notebook.\")\n",
    "\n",
    "  return device"
   ]
  },
  {
   "cell_type": "code",
   "execution_count": 13,
   "metadata": {
    "execution": {}
   },
   "outputs": [
    {
     "name": "stdout",
     "output_type": "stream",
     "text": [
      "Random seed 2021 has been set.\n",
      "GPU is enabled in this notebook.\n"
     ]
    }
   ],
   "source": [
    "SEED = 2021\n",
    "set_seed(seed=SEED)\n",
    "DEVICE = set_device()"
   ]
  },
  {
   "cell_type": "markdown",
   "metadata": {
    "execution": {}
   },
   "source": [
    "---\n",
    "# Section 1: How to train GANs\n",
    "\n",
    "*Time estimate: ~15mins*\n",
    "\n",
    "We apologize - the start/ends of the videos in this tutorial are a bit abrupt."
   ]
  },
  {
   "cell_type": "code",
   "execution_count": 14,
   "metadata": {
    "cellView": "form",
    "execution": {}
   },
   "outputs": [
    {
     "data": {
      "application/vnd.jupyter.widget-view+json": {
       "model_id": "68b357d928b84c02988d0942a5bf85dd",
       "version_major": 2,
       "version_minor": 0
      },
      "text/plain": [
       "Tab(children=(Output(), Output()), _titles={'0': 'Youtube', '1': 'Bilibili'})"
      ]
     },
     "metadata": {},
     "output_type": "display_data"
    }
   ],
   "source": [
    "# @title Video 1: Generative Adversarial Networks\n",
    "from ipywidgets import widgets\n",
    "\n",
    "out2 = widgets.Output()\n",
    "with out2:\n",
    "  from IPython.display import IFrame\n",
    "  class BiliVideo(IFrame):\n",
    "    def __init__(self, id, page=1, width=400, height=300, **kwargs):\n",
    "      self.id=id\n",
    "      src = \"https://player.bilibili.com/player.html?bvid={0}&page={1}\".format(id, page)\n",
    "      super(BiliVideo, self).__init__(src, width, height, **kwargs)\n",
    "\n",
    "  video = BiliVideo(id=f\"BV1o64y1i7xA\", width=854, height=480, fs=1)\n",
    "  print(\"Video available at https://www.bilibili.com/video/{0}\".format(video.id))\n",
    "  display(video)\n",
    "\n",
    "out1 = widgets.Output()\n",
    "with out1:\n",
    "  from IPython.display import YouTubeVideo\n",
    "  video = YouTubeVideo(id=f\"FmUbll93kms\", width=854, height=480, fs=1, rel=0)\n",
    "  print(\"Video available at https://youtube.com/watch?v=\" + video.id)\n",
    "  display(video)\n",
    "\n",
    "out = widgets.Tab([out1, out2])\n",
    "out.set_title(0, 'Youtube')\n",
    "out.set_title(1, 'Bilibili')\n",
    "\n",
    "# Add event to airtable\n",
    "atform.add_event('Video 1: Generative Adversarial Networks')\n",
    "\n",
    "display(out)"
   ]
  },
  {
   "cell_type": "markdown",
   "metadata": {
    "execution": {}
   },
   "source": [
    "## Think! 1.1: Training GANs\n",
    "\n",
    "Why do we want to train the disriminator and the generator at the same time? What would happen if we tried to train the discriminator first to perfectly distinguish real images from fake ones, then train the generator?"
   ]
  },
  {
   "cell_type": "code",
   "execution_count": null,
   "metadata": {
    "execution": {}
   },
   "outputs": [],
   "source": [
    "# to_remove explanation\n",
    "\n",
    "\"\"\"\n",
    "Let's say we trained the discriminator first to distinguish between real images\n",
    "and fake images perfectly. Then we train our generator model to try to fool the\n",
    "discriminator.\n",
    "\n",
    "This wouldn't work very well! The generator model would NEVER fool the discriminator if it's\n",
    "already really good. If it never fools the discriminator, there won't be good information on\n",
    "how to improve to fool the discriminator. Imagine you're a beginner soccer player going head-to-head\n",
    "with a pro. You have no chance of making a shot so you're not really learning what works (because\n",
    "nothing does).\n",
    "\"\"\";"
   ]
  },
  {
   "cell_type": "markdown",
   "metadata": {
    "execution": {}
   },
   "source": [
    "GANs consist two networks: A critic or discriminator (`disc`) and a generator (`gen`) that are trained by alternating between the following two steps:\n",
    "- In step 1, we update the parameters (`disc.params`) of the discriminator by backpropagating through the discriminator loss (BCE loss, we'll come back to this later) `disc.loss`.\n",
    "- In step 2, we update the parameters (`gen.params`) of the generator by backpropagating through the generator loss, `gen.loss` ( we'll come back to this later).\n",
    "\n",
    "We will now implement a simple GAN training loop!"
   ]
  },
  {
   "cell_type": "markdown",
   "metadata": {
    "execution": {}
   },
   "source": [
    "## Coding Exercise 1: The GAN training loop\n",
    "\n",
    "To get you started we have implemented a simple GAN in pseudocode. All you have to do is to implement the training loop.\n",
    "\n",
    "__Your goal__ is to arrange the functions given below in the correct order in the `train_gan_iter` function\n",
    "- `disc.loss(x_real, x_fake)`: Discriminator loss\n",
    "- `disc.classify(x)`: Classify `x` as real or fake\n",
    "- `gen.loss(x_fake, disc_fn)`: Generator loss\n",
    "- `disc_fn(x)` is a function to check `x` is real or fake.\n",
    "- `gen.sample(num_samples)`: Generate samples from the generator\n",
    "- `backprop(loss, model)`: Compute gradient of `loss` wrt `model`\n",
    "- `model` is either `disc` or `gen`\n",
    "\n",
    "**First, discuss with your podmates how you'd structure the training of a GAN using these functions**\n",
    "\n",
    "After discussion, let's turn to code! We have already taken care of most of these functions. So you only have to figure out the placement of `disc.loss` and `gen.loss` functions.\n",
    "\n",
    "__We highly recommend studying `train_gan_iter` function to understand how the GAN training loop is structured.__ "
   ]
  },
  {
   "cell_type": "code",
   "execution_count": 15,
   "metadata": {
    "cellView": "form",
    "execution": {}
   },
   "outputs": [],
   "source": [
    "# @markdown *Execute this cell to enable helper functions*\n",
    "\n",
    "def get_data():\n",
    "  return \"get_data\"\n",
    "\n",
    "\n",
    "class Disc:\n",
    "  \"\"\"\n",
    "  Disciminator class\n",
    "  \"\"\"\n",
    "\n",
    "  def loss(self, x_real, x_fake):\n",
    "    assert x_real == \"get_data\" and x_fake == \"gen.sample\", \"Inputs to disc.loss is wrong\"\n",
    "\n",
    "  def classify(self, x):\n",
    "    return \"disc.classify\"\n",
    "\n",
    "\n",
    "class Gen:\n",
    "  \"\"\"\n",
    "  Generator class\n",
    "  \"\"\"\n",
    "\n",
    "  def loss(self, x_fake, disc_fn):\n",
    "    assert x_fake == \"gen.sample\" and disc_fn(None) == \"disc.classify\", \"Inputs to gen.loss is wrong\"\n",
    "\n",
    "  def sample(self, num_samples):\n",
    "    return \"gen.sample\"\n",
    "\n",
    "\n",
    "def backprop(loss, model):\n",
    "  pass\n",
    "\n",
    "\n",
    "def update(model, grad):\n",
    "  pass"
   ]
  },
  {
   "cell_type": "code",
   "execution_count": 16,
   "metadata": {
    "execution": {}
   },
   "outputs": [
    {
     "name": "stdout",
     "output_type": "stream",
     "text": [
      "Your implementation passes the check!\n"
     ]
    }
   ],
   "source": [
    "def train_gan_iter(data, disc, gen):\n",
    "  \"\"\"\n",
    "  Update the discriminator (`disc`) and the generator (`gen`) using `data`\n",
    "\n",
    "  Args:\n",
    "    data: ndarray\n",
    "      An array of shape (N,) that contains the data\n",
    "    disc: Disc\n",
    "      The discriminator\n",
    "    gen: Gen\n",
    "      The generator\n",
    "\n",
    "  Returns:\n",
    "    None\n",
    "  \"\"\"\n",
    "  #################################################\n",
    "  # Intructions for students:                     #\n",
    "  # Fill out ... in the function and remove below #\n",
    "  #################################################\n",
    "\n",
    "  # Number of samples in the data batch\n",
    "  num_samples = 200\n",
    "\n",
    "  # The data is the real samples\n",
    "  x_real = data\n",
    "\n",
    "  ## Discriminator training\n",
    "\n",
    "  # Ask the generator to generate some fake samples\n",
    "  x_fake = gen.sample(num_samples)\n",
    "\n",
    "  #################################################\n",
    "  ## TODO for students: details of what they should do ##\n",
    "  # Fill out function and remove\n",
    "  #################################################\n",
    "  # Compute the discriminator loss\n",
    "  disc_loss = disc.loss(x_real, x_fake)\n",
    "  \n",
    "  # Compute the gradient for discriminator\n",
    "  disc_grad = backprop(disc_loss, disc)\n",
    "\n",
    "  # Update the discriminator\n",
    "  update(disc, disc_grad)\n",
    "\n",
    "  ## Generator training\n",
    "\n",
    "  # Ask the generator to generate some fake samples\n",
    "  x_fake = gen.sample(num_samples)\n",
    "\n",
    "  #################################################\n",
    "  ## TODO for students: details of what they should do ##\n",
    "  # Fill out function and remove\n",
    "  #################################################\n",
    "  # Compute the generator loss\n",
    "  gen_loss = gen.loss(x_fake, disc.classify)\n",
    "\n",
    "  # Compute the gradient for generator\n",
    "  gen_grad = backprop(gen_loss, gen)\n",
    "\n",
    "  # Update the generator\n",
    "  update(gen, gen_grad)\n",
    "\n",
    "  print(\"Your implementation passes the check!\")\n",
    "\n",
    "  return None\n",
    "\n",
    "\n",
    "# Add event to airtable\n",
    "atform.add_event('Coding Exercise 1: The GAN training loop')\n",
    "\n",
    "data = get_data()\n",
    "disc = Disc()\n",
    "gen = Gen()\n",
    "## Uncomment below to check your function\n",
    "train_gan_iter(data, disc, gen)"
   ]
  },
  {
   "cell_type": "markdown",
   "metadata": {
    "execution": {}
   },
   "source": [
    "---\n",
    "# Section 2: GAN Training Objective\n",
    "\n",
    "*Time estimate: ~20mins*"
   ]
  },
  {
   "cell_type": "markdown",
   "metadata": {
    "execution": {}
   },
   "source": [
    "The training objective of GANs consists of the losses for generators and discriminators respectively. In this section we will be implementing these objectives."
   ]
  },
  {
   "cell_type": "code",
   "execution_count": 17,
   "metadata": {
    "cellView": "form",
    "execution": {}
   },
   "outputs": [
    {
     "data": {
      "application/vnd.jupyter.widget-view+json": {
       "model_id": "79a6b2072b6e4e25b0cc677151097eb2",
       "version_major": 2,
       "version_minor": 0
      },
      "text/plain": [
       "Tab(children=(Output(), Output()), _titles={'0': 'Youtube', '1': 'Bilibili'})"
      ]
     },
     "metadata": {},
     "output_type": "display_data"
    }
   ],
   "source": [
    "# @title Video 2: Principles of GANs\n",
    "from ipywidgets import widgets\n",
    "\n",
    "out2 = widgets.Output()\n",
    "with out2:\n",
    "  from IPython.display import IFrame\n",
    "  class BiliVideo(IFrame):\n",
    "    def __init__(self, id, page=1, width=400, height=300, **kwargs):\n",
    "      self.id=id\n",
    "      src = \"https://player.bilibili.com/player.html?bvid={0}&page={1}\".format(id, page)\n",
    "      super(BiliVideo, self).__init__(src, width, height, **kwargs)\n",
    "\n",
    "  video = BiliVideo(id=f\"BV1bo4y1U7YT\", width=854, height=480, fs=1)\n",
    "  print(\"Video available at https://www.bilibili.com/video/{0}\".format(video.id))\n",
    "  display(video)\n",
    "\n",
    "out1 = widgets.Output()\n",
    "with out1:\n",
    "  from IPython.display import YouTubeVideo\n",
    "  video = YouTubeVideo(id=f\"U_4z5-hX1Kg\", width=854, height=480, fs=1, rel=0)\n",
    "  print(\"Video available at https://youtube.com/watch?v=\" + video.id)\n",
    "  display(video)\n",
    "\n",
    "out = widgets.Tab([out1, out2])\n",
    "out.set_title(0, 'Youtube')\n",
    "out.set_title(1, 'Bilibili')\n",
    "\n",
    "# Add event to airtable\n",
    "atform.add_event('Video 2: Principles of GANs')\n",
    "\n",
    "display(out)"
   ]
  },
  {
   "cell_type": "markdown",
   "metadata": {
    "execution": {}
   },
   "source": [
    "## Section 2.1:  Discriminator Loss\n",
    "\n",
    "The critic or the discriminator in a vanilla GAN is trained as a binary classifier using the BCE (Binary Cross Entropy) criteria. In this section, we will implement the training objective for the discriminator. Given N samples, this is:\n",
    "\n",
    "\\begin{equation}\n",
    "\\text{BCE}_\\omega = -\\frac{1}{N} \\sum_{i=1}^N y_i \\log(D_\\omega(x_i)) + (1-y_i) \\log(1-D_\\omega(x_i)).\n",
    "\\end{equation}\n",
    "\n",
    "$D_\\omega(x_i)$ is the discriminator's estimate of the probability that the input image ($x_i$) is real. \n",
    " $y$ is the label. $y=1$ when $x$ is a real image and $y=0$ when $x$ is a fake image.\n",
    "\n",
    "So why is this our loss? If the image being presented to the discriminator is real (y=1), we want $D_\\omega$ to be as high as possible. Maximizing $D_\\omega$ is the same as minimizing $-D_\\omega$. And look what happens when you look at the loss function above, if $y_i=1$, the loss is $-\\log(D_\\omega(x_i))$, exactly what we want!\n",
    "\n",
    "Think through what happens if the image is fake (y=0) - does the loss function make sense in that case?\n",
    "\n",
    "\n"
   ]
  },
  {
   "cell_type": "markdown",
   "metadata": {
    "execution": {}
   },
   "source": [
    "### Coding Exercise 2.1: Implement Discriminator Loss\n",
    "\n",
    "To get you started we have implemented a simple GAN in pseudocode and partially implemented the discriminator training objective.\n",
    "\n",
    "**Your goal** is to complete the missing part in the training objective of the discriminator in the function `loss_disc`.\n",
    "\n",
    "`loss_disc` also allows you evaluate the loss function on some random samples.\n",
    "If your implementation is correct, you will see a plot where the loss values from your implementation will match the ground truth loss values.\n",
    "\n",
    "Please note, `disc.classify` = $D_\\omega$ in `loss_disc`."
   ]
  },
  {
   "cell_type": "code",
   "execution_count": 18,
   "metadata": {
    "cellView": "form",
    "execution": {}
   },
   "outputs": [],
   "source": [
    "# @markdown *Execute this cell to enable helper functions*\n",
    "\n",
    "def get_data(num_samples=100, seed=0):\n",
    "  set_seed(seed)\n",
    "  return torch.randn([num_samples, 1])\n",
    "\n",
    "\n",
    "class DummyGen:\n",
    "  \"\"\"\n",
    "  Dummy Generator\n",
    "  \"\"\"\n",
    "  def sample(self, num_samples=100, seed=1):\n",
    "    set_seed(seed)\n",
    "    return torch.randn([num_samples, 1]) + 2\n",
    "\n",
    "\n",
    "class DummyDisc:\n",
    "  \"\"\"\n",
    "  Dummy Discriminator\n",
    "  \"\"\"\n",
    "  def classify(self, x, seed=0):\n",
    "    set_seed(seed)\n",
    "    return torch.rand([x.shape[0], ])"
   ]
  },
  {
   "cell_type": "code",
   "execution_count": 19,
   "metadata": {
    "execution": {}
   },
   "outputs": [
    {
     "name": "stdout",
     "output_type": "stream",
     "text": [
      "Random seed 0 has been set.\n",
      "Random seed 1 has been set.\n",
      "Random seed 0 has been set.\n",
      "Random seed 0 has been set.\n"
     ]
    },
    {
     "data": {
      "image/png": "[encoded data removed]",
      "text/plain": [
       "<Figure size 504x504 with 1 Axes>"
      ]
     },
     "metadata": {
      "image/png": {
       "height": 496,
       "width": 496
      },
      "needs_background": "light"
     },
     "output_type": "display_data"
    }
   ],
   "source": [
    "def loss_disc(disc, x_real, x_fake):\n",
    "  \"\"\"\n",
    "  Compute the discriminator loss for `x_real` and `x_fake` given `disc`\n",
    "\n",
    "  Args:\n",
    "    disc: Disc\n",
    "      The discriminator\n",
    "    x_real: ndarray\n",
    "      An array of shape (N,) that contains the real samples\n",
    "    x_fake: ndarray\n",
    "      An array of shape (N,) that contains the fake samples\n",
    "\n",
    "  Returns:\n",
    "    ndarray with log of the discriminator loss\n",
    "  \"\"\"\n",
    "\n",
    "  label_real = 1\n",
    "  #################################################\n",
    "  # TODO for students: Loss for real data\n",
    "  #################################################\n",
    "  ## Hint: torch.log may be useful\n",
    "  loss_real = -1 * label_real * torch.log(disc.classify(x_real))\n",
    "\n",
    "  label_fake = 0\n",
    "  #################################################\n",
    "  # TODO for students: Loss for fake data\n",
    "  #################################################\n",
    "  loss_fake = -1 * (1-label_fake) * torch.log(1 - disc.classify(x_fake))\n",
    "\n",
    "\n",
    "  return torch.cat([loss_real, loss_fake])\n",
    "\n",
    "\n",
    "# Add event to airtable\n",
    "atform.add_event('Coding Exercise 2.1: Implement Discriminator Loss')\n",
    "\n",
    "disc = DummyDisc()\n",
    "gen = DummyGen()\n",
    "\n",
    "x_real = get_data()\n",
    "x_fake = gen.sample()\n",
    "\n",
    "## Uncomment to check your function\n",
    "ld = loss_disc(disc, x_real, x_fake)\n",
    "plotting_ld(ld)"
   ]
  },
  {
   "cell_type": "markdown",
   "metadata": {
    "execution": {}
   },
   "source": [
    "If you've implemented the loss correctly, your implementation should match ground truth in the plot above. "
   ]
  },
  {
   "cell_type": "markdown",
   "metadata": {
    "execution": {}
   },
   "source": [
    "**A note on numerical stability**\n",
    "\n",
    "It is common that functions like $\\log$ throw a numerical error.\n",
    "For $\\log$, it happens when $x$ in $\\log(x)$ is very close to 0.\n",
    "The most common practice is to always add some very small value $\\epsilon$ to $x$, i.e. use $\\log(x + \\epsilon)$ instead.\n",
    "Most built-in functions in modern DL frameworks like TensorFlow or PyTorch handle such things in their built-in loss already, e.g., `torch.nn.BCE`, which is equivalent to the loss you implemented above."
   ]
  },
  {
   "cell_type": "markdown",
   "metadata": {
    "execution": {}
   },
   "source": [
    "## Section 2.2:  The generator loss\n",
    "\n",
    "Now that we have a trained critic, lets see how to train the generator using it.\n",
    "\n",
    "The goal of the generator is to fool the discriminator with a fake image. \n",
    "\n",
    "\n"
   ]
  },
  {
   "cell_type": "markdown",
   "metadata": {
    "execution": {}
   },
   "source": [
    "Remember that $D_\\omega(x_i)$ is the discriminator's estimate of the probability that the input image ($x_i$) is real. So the generator wants to maximize that for the images it is feeding the discriminator. This makes our generator loss:\n",
    "\n",
    "\\begin{equation}\n",
    "\\text{BCE}_\\omega = -\\frac{1}{N} \\sum_{i=1}^N \\log(D_\\omega(x_i)).\n",
    "\\end{equation}\n",
    "\n",
    "for all the fake images ($x_i$) it produces"
   ]
  },
  {
   "cell_type": "markdown",
   "metadata": {
    "execution": {}
   },
   "source": [
    "### Coding Exercise 2.2: The generator loss\n",
    "\n",
    "We will now implement the generator loss function and evaluate it on some fixed points.\n",
    "\n",
    "**Your goal** is to complete the implementation of the function `loss_gen` using the optimal critic from above.\n",
    "\n",
    "Upon correct implementation, you shall see a plot where the loss values from generator samples align with the \"Correct\" values.\n"
   ]
  },
  {
   "cell_type": "code",
   "execution_count": 20,
   "metadata": {
    "execution": {}
   },
   "outputs": [
    {
     "name": "stdout",
     "output_type": "stream",
     "text": [
      "Random seed 1 has been set.\n",
      "Random seed 0 has been set.\n"
     ]
    },
    {
     "data": {
      "image/png": "[encoded data removed]",
      "text/plain": [
       "<Figure size 504x504 with 1 Axes>"
      ]
     },
     "metadata": {
      "image/png": {
       "height": 496,
       "width": 496
      },
      "needs_background": "light"
     },
     "output_type": "display_data"
    }
   ],
   "source": [
    "def loss_gen(disc, x_fake):\n",
    "  \"\"\"\n",
    "  Compute the generator loss for `x_fake` given `disc`\n",
    "\n",
    "  Args:\n",
    "    disc: Disc\n",
    "      The generator\n",
    "    x_fake: ndarray\n",
    "      An array of shape (N,) that contains the fake samples\n",
    "\n",
    "  Returns:\n",
    "    loss_fake: ndarray\n",
    "      The generator loss\n",
    "  \"\"\"\n",
    "\n",
    "  #################################################\n",
    "  # TODO for students: Loss for fake data\n",
    "  #################################################\n",
    "  loss_fake = -1 * torch.log(disc.classify(x_fake))\n",
    "\n",
    "  return loss_fake\n",
    "\n",
    "\n",
    "# Add event to airtable\n",
    "atform.add_event('Coding Exercise 2.3: The generator loss')\n",
    "\n",
    "disc = DummyDisc()\n",
    "gen = DummyGen()\n",
    "\n",
    "x_fake = gen.sample()\n",
    "## Uncomment below to check your function\n",
    "lg = loss_gen(disc, x_fake)\n",
    "plotting_lg(lg)"
   ]
  },
  {
   "cell_type": "markdown",
   "metadata": {
    "execution": {}
   },
   "source": [
    "---\n",
    "# Section 3: The difficulty of GAN training.\n",
    "\n",
    "*Time estimate: ~10mins*"
   ]
  },
  {
   "cell_type": "markdown",
   "metadata": {
    "execution": {}
   },
   "source": [
    "In this section we will develop an intuition for the training dynamics of GANs."
   ]
  },
  {
   "cell_type": "markdown",
   "metadata": {
    "execution": {}
   },
   "source": [
    "## Interactive Demo 3: Failure modes of GAN training\n",
    "\n",
    "GAN training is notoriously difficult because \n",
    "it is very sensitive to hyper-parameters such as learning rate and model architecture. To help you develop a sense of this here is a very simple GAN training demo that we have borrowed from [Andrej Karpathy's website](https://cs.stanford.edu/people/karpathy/gan/).  \n",
    "\n",
    "The generator $G$, pictured in red, takes inputs sampled from a uniform distribution, $z$. It attempts to transform these to match a data distribution, shown below in blue. Meanwhile, the discriminator $D$ attempts to determine whether a sample is from the data distribution or the generating distribution. In the demo, the green curve represents the output of the discriminator. Its value is high where the discriminator is more confident that a sample with that value is drawn from the data distribution.\n",
    "\n",
    "Even though the GAN in this demo is very simple and operates in either 1D or 2D spaces, it is however very sensitive to the learning rate. Try it for yourself!"
   ]
  },
  {
   "cell_type": "code",
   "execution_count": 21,
   "metadata": {
    "cellView": "form",
    "execution": {}
   },
   "outputs": [
    {
     "data": {
      "application/vnd.jupyter.widget-view+json": {
       "model_id": "e6078fb8801b44d7b2efd7cf35f75f13",
       "version_major": 2,
       "version_minor": 0
      },
      "text/plain": [
       "Tab(children=(Output(), Output()), _titles={'0': 'Youtube', '1': 'Bilibili'})"
      ]
     },
     "metadata": {},
     "output_type": "display_data"
    }
   ],
   "source": [
    "# @title Video 3: GAN generator Learning Idea\n",
    "from ipywidgets import widgets\n",
    "\n",
    "out2 = widgets.Output()\n",
    "with out2:\n",
    "  from IPython.display import IFrame\n",
    "  class BiliVideo(IFrame):\n",
    "    def __init__(self, id, page=1, width=400, height=300, **kwargs):\n",
    "      self.id=id\n",
    "      src = \"https://player.bilibili.com/player.html?bvid={0}&page={1}\".format(id, page)\n",
    "      super(BiliVideo, self).__init__(src, width, height, **kwargs)\n",
    "\n",
    "  video = BiliVideo(id=f\"BV1aL411J7SE\", width=854, height=480, fs=1)\n",
    "  print(\"Video available at https://www.bilibili.com/video/{0}\".format(video.id))\n",
    "  display(video)\n",
    "\n",
    "out1 = widgets.Output()\n",
    "with out1:\n",
    "  from IPython.display import YouTubeVideo\n",
    "  video = YouTubeVideo(id=f\"Iqqz2_USUGs\", width=854, height=480, fs=1, rel=0)\n",
    "  print(\"Video available at https://youtube.com/watch?v=\" + video.id)\n",
    "  display(video)\n",
    "\n",
    "out = widgets.Tab([out1, out2])\n",
    "out.set_title(0, 'Youtube')\n",
    "out.set_title(1, 'Bilibili')\n",
    "\n",
    "# Add event to airtable\n",
    "atform.add_event('Video 3: GAN generator Learning Idea')\n",
    "\n",
    "display(out)"
   ]
  },
  {
   "cell_type": "code",
   "execution_count": 23,
   "metadata": {
    "cellView": "form",
    "execution": {}
   },
   "outputs": [
    {
     "data": {
      "text/html": [
       "\n",
       "        <iframe\n",
       "            width=\"900\"\n",
       "            height=\"600\"\n",
       "            src=\"https://xukai92.github.io/gan_demo/index.html\"\n",
       "            frameborder=\"0\"\n",
       "            allowfullscreen\n",
       "            \n",
       "        ></iframe>\n",
       "        "
      ],
      "text/plain": [
       "<IPython.lib.display.IFrame at 0x7f29f1c1bc70>"
      ]
     },
     "execution_count": 23,
     "metadata": {},
     "output_type": "execute_result"
    }
   ],
   "source": [
    "# @title GAN training demo\n",
    "# @markdown Make sure you execute this cell to enable the widget!\n",
    "\n",
    "from IPython.display import IFrame\n",
    "IFrame(src='https://xukai92.github.io/gan_demo/index.html', width=900, height=600)"
   ]
  },
  {
   "cell_type": "markdown",
   "metadata": {
    "execution": {}
   },
   "source": [
    "## Think! 3: What makes GANs hard to train?\n",
    "\n",
    "You have played with the demo and it's time to think about a few questions\n",
    "\n",
    "1. Which target is more stable to train, 1D or 2D?\n",
    "2. If you keep increasing the learning rate, what happens? Does it happen in both the cases, i.e., 1D/2D targets?\n",
    "3. Can you think of some drawbacks of using small learning rates?"
   ]
  },
  {
   "cell_type": "code",
   "execution_count": null,
   "metadata": {
    "cellView": "form",
    "execution": {}
   },
   "outputs": [],
   "source": [
    "# @title Student Response\n",
    "from ipywidgets import widgets\n",
    "\n",
    "\n",
    "text=widgets.Textarea(\n",
    "   value='Type your answer here and click on `Submit!`',\n",
    "   placeholder='Type something',\n",
    "   description='',\n",
    "   disabled=False\n",
    ")\n",
    "\n",
    "button = widgets.Button(description=\"Submit!\")\n",
    "\n",
    "display(text,button)\n",
    "\n",
    "def on_button_clicked(b):\n",
    "   atform.add_answer('q1', text.value)\n",
    "   print(\"Submission successful!\")\n",
    "\n",
    "\n",
    "button.on_click(on_button_clicked)"
   ]
  },
  {
   "cell_type": "code",
   "execution_count": null,
   "metadata": {
    "execution": {}
   },
   "outputs": [],
   "source": [
    "# to_remove explanation\n",
    "\n",
    "\"\"\"\n",
    "1. 2D as it is simply a more difficult distribution to model compared to the\n",
    "  unimodal 1D example.\n",
    "2. The training becomes unstable and eventually diverges. Yes.\n",
    "3. Training is too slow and takes longer to converge.\n",
    "\n",
    "In general, when training a GAN, we need to ensure a certain balance between\n",
    "the critic and generator training. As such, tuning the learning rate\n",
    "is crucial for succesfully training GANs.\n",
    "\"\"\";"
   ]
  },
  {
   "cell_type": "code",
   "execution_count": 22,
   "metadata": {
    "cellView": "form",
    "execution": {}
   },
   "outputs": [
    {
     "data": {
      "application/vnd.jupyter.widget-view+json": {
       "model_id": "2f69284d083648e5ade80baf1c4d659b",
       "version_major": 2,
       "version_minor": 0
      },
      "text/plain": [
       "Tab(children=(Output(), Output()), _titles={'0': 'Youtube', '1': 'Bilibili'})"
      ]
     },
     "metadata": {},
     "output_type": "display_data"
    }
   ],
   "source": [
    "# @title Video 4: GAN Failure Models\n",
    "from ipywidgets import widgets\n",
    "\n",
    "out2 = widgets.Output()\n",
    "with out2:\n",
    "  from IPython.display import IFrame\n",
    "  class BiliVideo(IFrame):\n",
    "    def __init__(self, id, page=1, width=400, height=300, **kwargs):\n",
    "      self.id=id\n",
    "      src = \"https://player.bilibili.com/player.html?bvid={0}&page={1}\".format(id, page)\n",
    "      super(BiliVideo, self).__init__(src, width, height, **kwargs)\n",
    "\n",
    "  video = BiliVideo(id=f\"BV17M4y1L7w9\", width=854, height=480, fs=1)\n",
    "  print(\"Video available at https://www.bilibili.com/video/{0}\".format(video.id))\n",
    "  display(video)\n",
    "\n",
    "out1 = widgets.Output()\n",
    "with out1:\n",
    "  from IPython.display import YouTubeVideo\n",
    "  video = YouTubeVideo(id=f\"fmU2UM_QzLo\", width=854, height=480, fs=1, rel=0)\n",
    "  print(\"Video available at https://youtube.com/watch?v=\" + video.id)\n",
    "  display(video)\n",
    "\n",
    "out = widgets.Tab([out1, out2])\n",
    "out.set_title(0, 'Youtube')\n",
    "out.set_title(1, 'Bilibili')\n",
    "\n",
    "# Add event to airtable\n",
    "atform.add_event('Video 4: GAN Failure Models')\n",
    "\n",
    "display(out)"
   ]
  },
  {
   "cell_type": "markdown",
   "metadata": {
    "execution": {}
   },
   "source": [
    "---\n",
    "# Section 4: GAN training in action!\n",
    "\n",
    "*Time estimate: ~4mins*"
   ]
  },
  {
   "cell_type": "markdown",
   "metadata": {
    "execution": {}
   },
   "source": [
    "In this section we will be playing with a complete implementation of GAN."
   ]
  },
  {
   "cell_type": "markdown",
   "metadata": {
    "execution": {}
   },
   "source": [
    "## Interactive Demo 4: GAN training in action\n"
   ]
  },
  {
   "cell_type": "code",
   "execution_count": 24,
   "metadata": {
    "cellView": "form",
    "execution": {}
   },
   "outputs": [
    {
     "name": "stderr",
     "output_type": "stream",
     "text": [
      "/home/hyunsu4gpu/.conda/envs/th1p12/lib/python3.8/site-packages/IPython/core/display.py:419: UserWarning: Consider using IPython.display.IFrame instead\n",
      "  warnings.warn(\"Consider using IPython.display.IFrame instead\")\n"
     ]
    },
    {
     "data": {
      "text/html": [
       "<iframe width=\"1500\" height=\"660\" src=\"https://poloclub.github.io/ganlab/\" allowfullscreen></iframe>"
      ],
      "text/plain": [
       "<IPython.core.display.HTML object>"
      ]
     },
     "execution_count": 24,
     "metadata": {},
     "output_type": "execute_result"
    }
   ],
   "source": [
    "# @title GanLab\n",
    "from IPython.display import HTML\n",
    "HTML('<iframe width=\"1500\" height=\"660\" src=\"https://poloclub.github.io/ganlab/\" allowfullscreen></iframe>')"
   ]
  },
  {
   "cell_type": "markdown",
   "metadata": {
    "execution": {}
   },
   "source": [
    "---\n",
    "# Summary\n",
    "\n",
    "Through this tutorial, we have learned\n",
    "\n",
    "- How to implement the training loop of GANs.\n",
    "- Developed an intuition about the training dynamics of GANs.\n",
    "- How to implement the training objectives for the generator and discriminator of GANs.\n",
    "- How are GANs connected to density ratio estimation.\n",
    "\n",
    "Next tutorial will cover conditional GANs and ethical issues of DL."
   ]
  },
  {
   "cell_type": "code",
   "execution_count": null,
   "metadata": {
    "cellView": "form",
    "execution": {}
   },
   "outputs": [],
   "source": [
    "# @title Airtable Submission Link\n",
    "from IPython import display as IPydisplay\n",
    "IPydisplay.HTML(\n",
    "   f\"\"\"\n",
    " <div>\n",
    "   <a href= \"{atform.url()}\" target=\"_blank\">\n",
    "   <img src=\"https://github.com/NeuromatchAcademy/course-content-dl/blob/main/tutorials/static/AirtableSubmissionButton.png?raw=1\"\n",
    " alt=\"button link to Airtable\" style=\"width:410px\"></a>\n",
    "   </div>\"\"\" )"
   ]
  }
 ],
 "metadata": {
  "accelerator": "GPU",
  "colab": {
   "collapsed_sections": [],
   "include_colab_link": true,
   "name": "W2D4_Tutorial2",
   "provenance": [],
   "toc_visible": true
  },
  "kernel": {
   "display_name": "Python 3",
   "language": "python",
   "name": "python3"
  },
  "kernelspec": {
   "display_name": "Python 3",
   "language": "python",
   "name": "python3"
  },
  "language_info": {
   "codemirror_mode": {
    "name": "ipython",
    "version": 3
   },
   "file_extension": ".py",
   "mimetype": "text/x-python",
   "name": "python",
   "nbconvert_exporter": "python",
   "pygments_lexer": "ipython3",
   "version": "3.8.10 (default, Nov 14 2022, 12:59:47) \n[GCC 9.4.0]"
  },
  "vscode": {
   "interpreter": {
    "hash": "31f2aee4e71d21fbe5cf8b01ff0e069b9275f58929596ceb00d14d90e3e16cd6"
   }
  }
 },
 "nbformat": 4,
 "nbformat_minor": 0
}
